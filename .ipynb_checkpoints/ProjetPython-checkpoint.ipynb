{
 "cells": [
  {
   "cell_type": "code",
   "execution_count": 1,
   "metadata": {},
   "outputs": [],
   "source": [
    "import pandas as pd\n",
    "import datetime\n",
    "from datetime import datetime, date\n",
    "import numpy as np\n",
    "%matplotlib inline\n",
    "import matplotlib.pyplot as plt"
   ]
  },
  {
   "cell_type": "code",
   "execution_count": 2,
   "metadata": {},
   "outputs": [
    {
     "data": {
      "text/plain": [
       "(10000, 36)"
      ]
     },
     "execution_count": 2,
     "metadata": {},
     "output_type": "execute_result"
    }
   ],
   "source": [
    "df = pd.read_csv(\"incident_event_log.csv\", sep=',', encoding='UTF-8')\n",
    "df = df.iloc[0:10000]\n",
    "df.shape"
   ]
  },
  {
   "cell_type": "code",
   "execution_count": 3,
   "metadata": {},
   "outputs": [
    {
     "name": "stdout",
     "output_type": "stream",
     "text": [
      "INC0002129    36\n",
      "INC0000990    28\n",
      "INC0001451    26\n",
      "INC0001471    26\n",
      "INC0000197    26\n",
      "              ..\n",
      "INC0001569     2\n",
      "INC0000941     2\n",
      "INC0001294     2\n",
      "INC0001919     2\n",
      "INC0001549     2\n",
      "Name: number, Length: 1446, dtype: int64\n",
      "\n",
      "\n",
      "New                   2782\n",
      "Active                2548\n",
      "Awaiting User Info    1552\n",
      "Resolved              1522\n",
      "Closed                1454\n",
      "Awaiting Problem       116\n",
      "Awaiting Vendor         23\n",
      "Awaiting Evidence        3\n",
      "Name: incident_state, dtype: int64\n",
      "\n",
      "\n",
      "True     8546\n",
      "False    1454\n",
      "Name: active, dtype: int64\n",
      "\n",
      "\n",
      "0     5013\n",
      "1     2309\n",
      "2     1165\n",
      "3      578\n",
      "4      319\n",
      "5      209\n",
      "6      150\n",
      "7       98\n",
      "8       59\n",
      "9       40\n",
      "10      31\n",
      "14       8\n",
      "12       7\n",
      "11       6\n",
      "18       3\n",
      "13       2\n",
      "17       1\n",
      "16       1\n",
      "15       1\n",
      "Name: reassignment_count, dtype: int64\n",
      "\n",
      "\n",
      "0    9829\n",
      "1     131\n",
      "3      18\n",
      "2      15\n",
      "4       7\n",
      "Name: reopen_count, dtype: int64\n",
      "\n",
      "\n",
      "0      1441\n",
      "1      1211\n",
      "2      1145\n",
      "3       969\n",
      "4       788\n",
      "       ... \n",
      "106       1\n",
      "90        1\n",
      "50        1\n",
      "129       1\n",
      "83        1\n",
      "Name: sys_mod_count, Length: 95, dtype: int64\n",
      "\n",
      "\n",
      "True     9264\n",
      "False     736\n",
      "Name: made_sla, dtype: int64\n",
      "\n",
      "\n",
      "Caller 4414    77\n",
      "Caller 4180    64\n",
      "Caller 369     59\n",
      "Caller 3479    57\n",
      "Caller 1683    53\n",
      "               ..\n",
      "Caller 1324     2\n",
      "Caller 4758     2\n",
      "Caller 3934     2\n",
      "Caller 760      2\n",
      "Caller 4432     2\n",
      "Name: caller_id, Length: 949, dtype: int64\n",
      "\n",
      "\n",
      "?                 1377\n",
      "Opened by  180     871\n",
      "Opened by  131     799\n",
      "Opened by  40      676\n",
      "Opened by  301     534\n",
      "                  ... \n",
      "Opened by  517       4\n",
      "Opened by  317       4\n",
      "Opened by  356       4\n",
      "Opened by  368       3\n",
      "Opened by  385       2\n",
      "Name: opened_by, Length: 73, dtype: int64\n",
      "\n",
      "\n",
      "2/3/2016 16:10    41\n",
      "1/3/2016 09:36    37\n",
      "3/3/2016 17:10    36\n",
      "3/3/2016 13:43    36\n",
      "2/3/2016 12:33    34\n",
      "                  ..\n",
      "3/3/2016 17:59     2\n",
      "2/3/2016 17:40     2\n",
      "3/3/2016 13:31     2\n",
      "1/3/2016 14:20     2\n",
      "1/3/2016 11:49     2\n",
      "Name: opened_at, Length: 1165, dtype: int64\n",
      "\n",
      "\n",
      "?                 2739\n",
      "Created by 81      627\n",
      "Created by 89      619\n",
      "Created by 62      608\n",
      "Created by 20      516\n",
      "                  ... \n",
      "Created by 170       5\n",
      "Created by 137       4\n",
      "Created by 163       4\n",
      "Created by 225       4\n",
      "Created by 166       2\n",
      "Name: sys_created_by, Length: 70, dtype: int64\n",
      "\n",
      "\n",
      "?                  2739\n",
      "3/3/2016 16:23       41\n",
      "3/3/2016 16:47       36\n",
      "3/3/2016 17:16       36\n",
      "29/2/2016 09:13      34\n",
      "                   ... \n",
      "1/3/2016 11:39        3\n",
      "2/3/2016 16:43        3\n",
      "3/3/2016 12:12        3\n",
      "3/3/2016 18:20        3\n",
      "2/3/2016 17:43        2\n",
      "Name: sys_created_at, Length: 837, dtype: int64\n",
      "\n",
      "\n",
      "Updated by 908    1890\n",
      "Updated by 429     298\n",
      "Updated by 60      216\n",
      "Updated by 340     214\n",
      "Updated by 44      196\n",
      "                  ... \n",
      "Updated by 217       1\n",
      "Updated by 354       1\n",
      "Updated by 415       1\n",
      "Updated by 163       1\n",
      "Updated by 806       1\n",
      "Name: sys_updated_by, Length: 191, dtype: int64\n",
      "\n",
      "\n",
      "24/3/2016 18:40    186\n",
      "24/3/2016 18:59    127\n",
      "24/3/2016 18:50     91\n",
      "8/3/2016 10:00      34\n",
      "8/3/2016 16:00      30\n",
      "                  ... \n",
      "9/3/2016 18:47       1\n",
      "4/3/2016 13:45       1\n",
      "4/3/2016 18:41       1\n",
      "9/3/2016 16:47       1\n",
      "16/3/2016 15:50      1\n",
      "Name: sys_updated_at, Length: 5327, dtype: int64\n",
      "\n",
      "\n",
      "Phone    10000\n",
      "Name: contact_type, dtype: int64\n",
      "\n",
      "\n",
      "Location 204    2335\n",
      "Location 143    1508\n",
      "Location 161    1153\n",
      "Location 93     1083\n",
      "Location 108     790\n",
      "                ... \n",
      "Location 107       4\n",
      "Location 141       3\n",
      "Location 72        3\n",
      "Location 99        3\n",
      "Location 247       2\n",
      "Name: location, Length: 98, dtype: int64\n",
      "\n",
      "\n",
      "Category 45    1781\n",
      "Category 53    1669\n",
      "Category 26    1001\n",
      "Category 32     697\n",
      "Category 42     570\n",
      "Category 9      552\n",
      "Category 37     511\n",
      "Category 24     406\n",
      "Category 23     399\n",
      "Category 20     362\n",
      "Category 55     328\n",
      "Category 61     308\n",
      "Category 34     270\n",
      "Category 44     192\n",
      "Category 46     162\n",
      "Category 40     156\n",
      "Category 51     117\n",
      "Category 19     109\n",
      "Category 22      69\n",
      "Category 35      65\n",
      "?                53\n",
      "Category 43      43\n",
      "Category 8       33\n",
      "Category 13      32\n",
      "Category 17      25\n",
      "Category 57      20\n",
      "Category 63      18\n",
      "Category 7       15\n",
      "Category 62       9\n",
      "Category 30       6\n",
      "Category 38       4\n",
      "Category 31       4\n",
      "Category 56       3\n",
      "Category 47       3\n",
      "Category 15       3\n",
      "Category 49       2\n",
      "Category 4        2\n",
      "Category 25       1\n",
      "Name: category, dtype: int64\n",
      "\n",
      "\n",
      "Subcategory 164    1262\n",
      "Subcategory 175     711\n",
      "Subcategory 9       697\n",
      "Subcategory 135     386\n",
      "Subcategory 303     359\n",
      "                   ... \n",
      "Subcategory 179       1\n",
      "Subcategory 11        1\n",
      "Subcategory 167       1\n",
      "Subcategory 65        1\n",
      "Subcategory 276       1\n",
      "Name: subcategory, Length: 135, dtype: int64\n",
      "\n",
      "\n",
      "?              3112\n",
      "Symptom 4      1461\n",
      "Symptom 470     615\n",
      "Symptom 208     526\n",
      "Symptom 387     458\n",
      "               ... \n",
      "Symptom 155       1\n",
      "Symptom 184       1\n",
      "Symptom 17        1\n",
      "Symptom 144       1\n",
      "Symptom 142       1\n",
      "Name: u_symptom, Length: 176, dtype: int64\n",
      "\n",
      "\n",
      "?             9882\n",
      "cmdb_ci 31      32\n",
      "cmdb_ci 23      14\n",
      "cmdb_ci 14      12\n",
      "cmdb_ci 6       10\n",
      "cmdb_ci 3        9\n",
      "cmdb_ci 48       9\n",
      "cmdb_ci 49       8\n",
      "cmdb_ci 22       8\n",
      "cmdb_ci 19       7\n",
      "cmdb_ci 15       5\n",
      "cmdb_ci 16       4\n",
      "Name: cmdb_ci, dtype: int64\n",
      "\n",
      "\n",
      "2 - Medium    8658\n",
      "3 - Low        910\n",
      "1 - High       432\n",
      "Name: impact, dtype: int64\n",
      "\n",
      "\n",
      "2 - Medium    8669\n",
      "3 - Low        894\n",
      "1 - High       437\n",
      "Name: urgency, dtype: int64\n",
      "\n",
      "\n",
      "3 - Moderate    8362\n",
      "4 - Low         1034\n",
      "2 - High         345\n",
      "1 - Critical     259\n",
      "Name: priority, dtype: int64\n",
      "\n",
      "\n",
      "Group 70    2458\n",
      "Group 24     693\n",
      "Group 25     657\n",
      "Group 28     509\n",
      "Group 23     467\n",
      "            ... \n",
      "Group 2        3\n",
      "Group 81       2\n",
      "Group 77       2\n",
      "Group 11       1\n",
      "Group 44       1\n",
      "Name: assignment_group, Length: 64, dtype: int64\n",
      "\n",
      "\n",
      "?               2753\n",
      "Resolver 236     266\n",
      "Resolver 13      253\n",
      "Resolver 57      238\n",
      "Resolver 170     236\n",
      "                ... \n",
      "Resolver 48        1\n",
      "Resolver 238       1\n",
      "Resolver 129       1\n",
      "Resolver 196       1\n",
      "Resolver 199       1\n",
      "Name: assigned_to, Length: 138, dtype: int64\n",
      "\n",
      "\n",
      "True     9926\n",
      "False      74\n",
      "Name: knowledge, dtype: int64\n",
      "\n",
      "\n",
      "False    9281\n",
      "True      719\n",
      "Name: u_priority_confirmation, dtype: int64\n",
      "\n",
      "\n",
      "Do Not Notify    10000\n",
      "Name: notify, dtype: int64\n",
      "\n",
      "\n",
      "?                  9679\n",
      "Problem ID  2       135\n",
      "Problem ID  7        29\n",
      "Problem ID  10       16\n",
      "Problem ID  20       13\n",
      "Problem ID  8        11\n",
      "Problem ID  14       10\n",
      "Problem ID  246      10\n",
      "Problem ID  141       9\n",
      "Problem ID  26        9\n",
      "Problem ID  4         8\n",
      "Problem ID  5         8\n",
      "Problem ID  23        8\n",
      "Problem ID  15        8\n",
      "Problem ID  17        7\n",
      "Problem ID  6         7\n",
      "Problem ID  12        6\n",
      "Problem ID  44        5\n",
      "Problem ID  18        5\n",
      "Problem ID  40        5\n",
      "Problem ID  19        3\n",
      "Problem ID  9         3\n",
      "Problem ID  24        2\n",
      "Problem ID  72        2\n",
      "Problem ID  33        1\n",
      "Problem ID  11        1\n",
      "Name: problem_id, dtype: int64\n",
      "\n",
      "\n",
      "?             9794\n",
      "CHG0000047      18\n",
      "CHG0001656      17\n",
      "CHG0003167      13\n",
      "CHG0000097      11\n",
      "CHG0000089       9\n",
      "CHG0003447       9\n",
      "CHG0001863       9\n",
      "CHG0001301       8\n",
      "CHG0000127       8\n",
      "CHG0000293       8\n",
      "CHG0001271       7\n",
      "CHG0000132       7\n",
      "CHG0000507       7\n",
      "CHG0000707       7\n",
      "CHG0000232       7\n",
      "CHG0001019       7\n",
      "CHG0000405       6\n",
      "CHG0000428       6\n",
      "CHG0000336       6\n",
      "CHG0000084       5\n",
      "CHG0000536       4\n",
      "CHG0000433       4\n",
      "CHG0000402       4\n",
      "CHG0000558       3\n",
      "CHG0000647       3\n",
      "CHG0000704       3\n",
      "CHG0000646       3\n",
      "CHG0000404       3\n",
      "CHG0000914       3\n",
      "CHG0001829       1\n",
      "Name: rfc, dtype: int64\n",
      "\n",
      "\n",
      "?          9993\n",
      "code 8s       7\n",
      "Name: vendor, dtype: int64\n",
      "\n",
      "\n",
      "?             9982\n",
      "CHG0000097      11\n",
      "CHG0000132       7\n",
      "Name: caused_by, dtype: int64\n",
      "\n",
      "\n",
      "code 6     6129\n",
      "code 7     1091\n",
      "code 9      643\n",
      "code 8      529\n",
      "code 1      384\n",
      "code 5      325\n",
      "code 11     276\n",
      "code 10     136\n",
      "code 4      127\n",
      "code 2      109\n",
      "code 3       84\n",
      "?            78\n",
      "code 16      68\n",
      "code 15      13\n",
      "code 17       8\n",
      "Name: closed_code, dtype: int64\n",
      "\n",
      "\n",
      "Resolved by 53     415\n",
      "Resolved by 11     381\n",
      "Resolved by 15     381\n",
      "Resolved by 62     362\n",
      "Resolved by 166    305\n",
      "                  ... \n",
      "Resolved by 131      5\n",
      "Resolved by 191      5\n",
      "Resolved by 229      5\n",
      "Resolved by 54       4\n",
      "Resolved by 48       3\n",
      "Name: resolved_by, Length: 133, dtype: int64\n",
      "\n",
      "\n",
      "?                  75\n",
      "31/3/2016 11:13    41\n",
      "5/5/2016 17:11     36\n",
      "17/3/2016 10:33    33\n",
      "28/6/2016 10:30    31\n",
      "                   ..\n",
      "2/3/2016 06:23      3\n",
      "25/4/2016 08:40     3\n",
      "1/3/2016 09:17      3\n",
      "2/3/2016 15:23      3\n",
      "2/3/2016 17:43      2\n",
      "Name: resolved_at, Length: 1289, dtype: int64\n",
      "\n",
      "\n",
      "24/3/2016 18:40    1526\n",
      "24/3/2016 18:59    1309\n",
      "24/3/2016 18:50     708\n",
      "8/3/2016 10:00      175\n",
      "8/3/2016 17:00      156\n",
      "                   ... \n",
      "25/5/2016 16:07       3\n",
      "7/3/2016 03:00        3\n",
      "9/3/2016 22:00        3\n",
      "5/3/2016 18:00        2\n",
      "5/3/2016 11:00        2\n",
      "Name: closed_at, Length: 278, dtype: int64\n",
      "\n",
      "\n"
     ]
    }
   ],
   "source": [
    "for column in df.columns:\n",
    "    print(df[column].value_counts())\n",
    "    print('\\n')"
   ]
  },
  {
   "cell_type": "code",
   "execution_count": 4,
   "metadata": {},
   "outputs": [
    {
     "data": {
      "text/plain": [
       "number                     1446\n",
       "incident_state                8\n",
       "active                        2\n",
       "reassignment_count           19\n",
       "reopen_count                  5\n",
       "sys_mod_count                95\n",
       "made_sla                      2\n",
       "caller_id                   949\n",
       "opened_by                    73\n",
       "opened_at                  1165\n",
       "sys_created_by               70\n",
       "sys_created_at              837\n",
       "sys_updated_by              191\n",
       "sys_updated_at             5327\n",
       "contact_type                  1\n",
       "location                     98\n",
       "category                     38\n",
       "subcategory                 135\n",
       "u_symptom                   176\n",
       "cmdb_ci                      12\n",
       "impact                        3\n",
       "urgency                       3\n",
       "priority                      4\n",
       "assignment_group             64\n",
       "assigned_to                 138\n",
       "knowledge                     2\n",
       "u_priority_confirmation       2\n",
       "notify                        1\n",
       "problem_id                   26\n",
       "rfc                          31\n",
       "vendor                        2\n",
       "caused_by                     3\n",
       "closed_code                  15\n",
       "resolved_by                 133\n",
       "resolved_at                1289\n",
       "closed_at                   278\n",
       "dtype: int64"
      ]
     },
     "execution_count": 4,
     "metadata": {},
     "output_type": "execute_result"
    }
   ],
   "source": [
    "df.nunique()"
   ]
  },
  {
   "cell_type": "code",
   "execution_count": 5,
   "metadata": {},
   "outputs": [
    {
     "name": "stdout",
     "output_type": "stream",
     "text": [
      "cmdb_ci    9882     98.82 % valeurs manquantes\n",
      "problem_id    9679     96.78999999999999 % valeurs manquantes\n",
      "rfc    9794     97.94 % valeurs manquantes\n",
      "vendor    9993     99.92999999999999 % valeurs manquantes\n",
      "caused_by    9982     99.82 % valeurs manquantes\n"
     ]
    }
   ],
   "source": [
    "total = len(df)\n",
    "colToDrop = []\n",
    "for elt in df.columns:\n",
    "    count = 0\n",
    "    for i in range(len(df[elt])):\n",
    "        if(df[elt][i] == '?'):\n",
    "            count += 1\n",
    "    if (count/total*100>50):\n",
    "        print(elt, \"  \", count, \"   \", count/total*100, \"% valeurs manquantes\")\n",
    "        colToDrop.append(elt)\n",
    "df.drop(columns=colToDrop, inplace= True)"
   ]
  },
  {
   "cell_type": "code",
   "execution_count": 6,
   "metadata": {
    "scrolled": true
   },
   "outputs": [
    {
     "data": {
      "text/plain": [
       "False    10000\n",
       "dtype: int64"
      ]
     },
     "execution_count": 6,
     "metadata": {},
     "output_type": "execute_result"
    }
   ],
   "source": [
    "df.duplicated().value_counts() #Aucun doublon dans le dataset à retirer"
   ]
  },
  {
   "cell_type": "code",
   "execution_count": 7,
   "metadata": {},
   "outputs": [],
   "source": [
    "listReplacers = ['INC', 'Caller ', 'Opened by ', 'Created by ', 'Updated by ', 'Location ', 'Category ', 'Subcategory ', 'Symptom ', 'Group ', 'Resolver ', 'code ', 'Resolved by ']\n",
    "listColToReplace = ['number','caller_id', 'opened_by','sys_created_by', 'sys_updated_by', 'location','category', 'subcategory', 'u_symptom', 'assignment_group', 'assigned_to', 'closed_code','resolved_by']\n",
    "def StripCol(df, col, strToRemove):\n",
    "    for i in range(len(df[col])):\n",
    "        df[col][i] = df[col][i].strip(strToRemove)\n",
    "    return df"
   ]
  },
  {
   "cell_type": "code",
   "execution_count": 8,
   "metadata": {},
   "outputs": [
    {
     "name": "stderr",
     "output_type": "stream",
     "text": [
      "C:\\Users\\Guillaume\\Anaconda3\\lib\\site-packages\\ipykernel_launcher.py:5: SettingWithCopyWarning: \n",
      "A value is trying to be set on a copy of a slice from a DataFrame\n",
      "\n",
      "See the caveats in the documentation: http://pandas.pydata.org/pandas-docs/stable/user_guide/indexing.html#returning-a-view-versus-a-copy\n",
      "  \"\"\"\n"
     ]
    }
   ],
   "source": [
    "i=0\n",
    "for col in listColToReplace:\n",
    "    df = StripCol(df, col, listReplacers[i])\n",
    "    i+=1"
   ]
  },
  {
   "cell_type": "code",
   "execution_count": 9,
   "metadata": {},
   "outputs": [
    {
     "name": "stdout",
     "output_type": "stream",
     "text": [
      "opened_by    1377    13.77 % valeurs manquantes\n",
      "sys_created_by    2739    27.389999999999997 % valeurs manquantes\n",
      "sys_created_at    2739    27.389999999999997 % valeurs manquantes\n",
      "location    33    0.33 % valeurs manquantes\n",
      "category    53    0.53 % valeurs manquantes\n",
      "subcategory    53    0.53 % valeurs manquantes\n",
      "u_symptom    3112    31.119999999999997 % valeurs manquantes\n",
      "assignment_group    359    3.5900000000000003 % valeurs manquantes\n",
      "assigned_to    2753    27.529999999999998 % valeurs manquantes\n",
      "closed_code    78    0.7799999999999999 % valeurs manquantes\n",
      "resolved_at    75    0.75 % valeurs manquantes\n"
     ]
    },
    {
     "data": {
      "text/plain": [
       "['opened_by',\n",
       " 'sys_created_by',\n",
       " 'sys_created_at',\n",
       " 'location',\n",
       " 'category',\n",
       " 'subcategory',\n",
       " 'u_symptom',\n",
       " 'assignment_group',\n",
       " 'assigned_to',\n",
       " 'closed_code',\n",
       " 'resolved_at']"
      ]
     },
     "execution_count": 9,
     "metadata": {},
     "output_type": "execute_result"
    }
   ],
   "source": [
    "#Gestion des valeurs '?'\n",
    "total = len(df)\n",
    "listColATraiter = []\n",
    "for elt in df.columns:\n",
    "    count = 0\n",
    "    for i in range(len(df[elt])):\n",
    "        if(df[elt][i] == '?'):\n",
    "            count += 1\n",
    "    if(count != 0):\n",
    "        print(elt, \"  \", count, \"  \", count/total*100, \"% valeurs manquantes\")\n",
    "        listColATraiter.append(elt)\n",
    "listColATraiter"
   ]
  },
  {
   "cell_type": "code",
   "execution_count": 10,
   "metadata": {},
   "outputs": [],
   "source": [
    "listColATraiter.remove('resolved_at')\n",
    "listColATraiter.remove('sys_created_at')#On traite les dates séparément"
   ]
  },
  {
   "cell_type": "code",
   "execution_count": 11,
   "metadata": {},
   "outputs": [],
   "source": [
    "for col in listColATraiter:\n",
    "    df[col].replace('?', '0', inplace = True)"
   ]
  },
  {
   "cell_type": "code",
   "execution_count": 12,
   "metadata": {},
   "outputs": [],
   "source": [
    "df['sys_created_at'].replace('?', np.nan, inplace = True)\n",
    "df['sys_created_at'].ffill(inplace = True)\n",
    "df['resolved_at'].replace('?', np.nan, inplace = True)\n",
    "df['resolved_at'].ffill(inplace = True)"
   ]
  },
  {
   "cell_type": "code",
   "execution_count": 13,
   "metadata": {},
   "outputs": [
    {
     "data": {
      "text/plain": [
       "0       0000045\n",
       "1       0000045\n",
       "2       0000045\n",
       "3       0000045\n",
       "4       0000047\n",
       "         ...   \n",
       "9995    0002319\n",
       "9996    0002320\n",
       "9997    0002320\n",
       "9998    0002320\n",
       "9999    0002320\n",
       "Name: number, Length: 10000, dtype: object"
      ]
     },
     "execution_count": 13,
     "metadata": {},
     "output_type": "execute_result"
    }
   ],
   "source": [
    "df['number']"
   ]
  },
  {
   "cell_type": "code",
   "execution_count": 14,
   "metadata": {},
   "outputs": [],
   "source": [
    "#listDateTimeATraiter = ['sys_created_at', 'resolved_at']\n",
    "#clean = lambda df,col,replacer : df[col][i].replace('?', '0', inplace = True)\n",
    "#def ReplaceQuestionMarkDateTime(df, col): #Convertir les '?' par la valeur précédente dans la colonne\n",
    "#    for i in range(len(df[column])):\n",
    "#        if (df[column][i] == \"?\"):\n",
    "#            df[column, i] = df[column][i-1]\n",
    "#    return df\n",
    "#for elt in listDateTimeATraiter:\n",
    "#    df = ReplaceQuestionMarkDateTime(df, elt)"
   ]
  },
  {
   "cell_type": "code",
   "execution_count": 15,
   "metadata": {},
   "outputs": [],
   "source": [
    "#def ReplaceQuestionMarkNumeric(df, col, replacer): #Convertir les '?'\n",
    "#    for i in range(len(df[column])):\n",
    "#        if (\"?\" == df[column][i]):\n",
    "#            df[column][i] = replacer\n",
    "#    return df"
   ]
  },
  {
   "cell_type": "code",
   "execution_count": 16,
   "metadata": {},
   "outputs": [],
   "source": [
    "#i = 0\n",
    "#for elt in listColATraiter:\n",
    "#    df = ReplaceQuestionMarkNumeric(df, elt, listReplacers[i])\n",
    "#    i+=1"
   ]
  },
  {
   "cell_type": "code",
   "execution_count": 17,
   "metadata": {},
   "outputs": [],
   "source": [
    "#On vérifie qu'il n'y a plus aucun '?'\n",
    "total = len(df)\n",
    "listColATraiter = []\n",
    "for elt in df.columns:\n",
    "    count = 0\n",
    "    for i in range(len(df[elt])):\n",
    "        if(df[elt][i] == '?'):\n",
    "            count += 1\n",
    "    if(count != 0):\n",
    "        print(elt, \"  \", count, \"  \", count/total*100, \"% valeurs manquantes\")\n",
    "        listColATraiter.append(elt)"
   ]
  },
  {
   "cell_type": "code",
   "execution_count": 18,
   "metadata": {},
   "outputs": [],
   "source": [
    "listToNumeric = ['number', 'caller_id', 'opened_by', 'sys_created_by', 'sys_updated_by','location', 'category', 'subcategory', 'u_symptom', 'assignment_group','assigned_to','closed_code','resolved_by']\n",
    "#listCutLength = [3, 7, 10, 11, 11, 9, 9, 12, 8, 6, 9, 5, 12]"
   ]
  },
  {
   "cell_type": "code",
   "execution_count": 19,
   "metadata": {},
   "outputs": [],
   "source": [
    "#def ToNumeric(df, col, cutLength):\n",
    "#    for i in range(len(df[col])):\n",
    "#        df[col][i] = df[col][i][cutLength:]\n",
    "#    df[col] = pd.to_numeric(df[col])    \n",
    "#    print(col, \" converti en numerique\")\n",
    "#    return df"
   ]
  },
  {
   "cell_type": "code",
   "execution_count": 20,
   "metadata": {},
   "outputs": [],
   "source": [
    "for elt in listToNumeric:\n",
    "    df[elt] = pd.to_numeric(df[elt]) "
   ]
  },
  {
   "cell_type": "code",
   "execution_count": 21,
   "metadata": {},
   "outputs": [
    {
     "name": "stdout",
     "output_type": "stream",
     "text": [
      "<class 'pandas.core.frame.DataFrame'>\n",
      "RangeIndex: 10000 entries, 0 to 9999\n",
      "Data columns (total 31 columns):\n",
      "number                     10000 non-null int64\n",
      "incident_state             10000 non-null object\n",
      "active                     10000 non-null bool\n",
      "reassignment_count         10000 non-null int64\n",
      "reopen_count               10000 non-null int64\n",
      "sys_mod_count              10000 non-null int64\n",
      "made_sla                   10000 non-null bool\n",
      "caller_id                  10000 non-null int64\n",
      "opened_by                  10000 non-null int64\n",
      "opened_at                  10000 non-null object\n",
      "sys_created_by             10000 non-null int64\n",
      "sys_created_at             10000 non-null object\n",
      "sys_updated_by             10000 non-null int64\n",
      "sys_updated_at             10000 non-null object\n",
      "contact_type               10000 non-null object\n",
      "location                   10000 non-null int64\n",
      "category                   10000 non-null int64\n",
      "subcategory                10000 non-null int64\n",
      "u_symptom                  10000 non-null int64\n",
      "impact                     10000 non-null object\n",
      "urgency                    10000 non-null object\n",
      "priority                   10000 non-null object\n",
      "assignment_group           10000 non-null int64\n",
      "assigned_to                10000 non-null int64\n",
      "knowledge                  10000 non-null bool\n",
      "u_priority_confirmation    10000 non-null bool\n",
      "notify                     10000 non-null object\n",
      "closed_code                10000 non-null int64\n",
      "resolved_by                10000 non-null int64\n",
      "resolved_at                10000 non-null object\n",
      "closed_at                  10000 non-null object\n",
      "dtypes: bool(4), int64(16), object(11)\n",
      "memory usage: 2.1+ MB\n"
     ]
    }
   ],
   "source": [
    "df.info()"
   ]
  },
  {
   "cell_type": "code",
   "execution_count": 22,
   "metadata": {},
   "outputs": [
    {
     "name": "stderr",
     "output_type": "stream",
     "text": [
      "C:\\Users\\Guillaume\\Anaconda3\\lib\\site-packages\\ipykernel_launcher.py:4: SettingWithCopyWarning: \n",
      "A value is trying to be set on a copy of a slice from a DataFrame\n",
      "\n",
      "See the caveats in the documentation: http://pandas.pydata.org/pandas-docs/stable/user_guide/indexing.html#returning-a-view-versus-a-copy\n",
      "  after removing the cwd from sys.path.\n"
     ]
    },
    {
     "name": "stdout",
     "output_type": "stream",
     "text": [
      "impact  converti en numerique\n",
      "urgency  converti en numerique\n",
      "priority  converti en numerique\n"
     ]
    }
   ],
   "source": [
    "listToNumericLeft = ['impact', 'urgency', 'priority']\n",
    "def ToNumericLeft(df, col, cutLength):\n",
    "    for i in range(len(df[col])):\n",
    "        df[col][i] = df[col][i][:cutLength]   \n",
    "    df[col] = pd.to_numeric(df[col])    \n",
    "    print(col, \" converti en numerique\")\n",
    "    return df\n",
    "for elt in listToNumericLeft:\n",
    "    df = ToNumericLeft(df, elt, 1)"
   ]
  },
  {
   "cell_type": "code",
   "execution_count": 23,
   "metadata": {},
   "outputs": [
    {
     "name": "stdout",
     "output_type": "stream",
     "text": [
      "<class 'pandas.core.frame.DataFrame'>\n",
      "RangeIndex: 10000 entries, 0 to 9999\n",
      "Data columns (total 31 columns):\n",
      "number                     10000 non-null int64\n",
      "incident_state             10000 non-null object\n",
      "active                     10000 non-null bool\n",
      "reassignment_count         10000 non-null int64\n",
      "reopen_count               10000 non-null int64\n",
      "sys_mod_count              10000 non-null int64\n",
      "made_sla                   10000 non-null bool\n",
      "caller_id                  10000 non-null int64\n",
      "opened_by                  10000 non-null int64\n",
      "opened_at                  10000 non-null object\n",
      "sys_created_by             10000 non-null int64\n",
      "sys_created_at             10000 non-null object\n",
      "sys_updated_by             10000 non-null int64\n",
      "sys_updated_at             10000 non-null object\n",
      "contact_type               10000 non-null object\n",
      "location                   10000 non-null int64\n",
      "category                   10000 non-null int64\n",
      "subcategory                10000 non-null int64\n",
      "u_symptom                  10000 non-null int64\n",
      "impact                     10000 non-null int64\n",
      "urgency                    10000 non-null int64\n",
      "priority                   10000 non-null int64\n",
      "assignment_group           10000 non-null int64\n",
      "assigned_to                10000 non-null int64\n",
      "knowledge                  10000 non-null bool\n",
      "u_priority_confirmation    10000 non-null bool\n",
      "notify                     10000 non-null object\n",
      "closed_code                10000 non-null int64\n",
      "resolved_by                10000 non-null int64\n",
      "resolved_at                10000 non-null object\n",
      "closed_at                  10000 non-null object\n",
      "dtypes: bool(4), int64(19), object(8)\n",
      "memory usage: 2.1+ MB\n"
     ]
    }
   ],
   "source": [
    "df.info()"
   ]
  },
  {
   "cell_type": "code",
   "execution_count": 24,
   "metadata": {},
   "outputs": [
    {
     "data": {
      "image/png": "[encoded data removed]",
      "text/plain": [
       "<Figure size 432x288 with 1 Axes>"
      ]
     },
     "metadata": {
      "needs_background": "light"
     },
     "output_type": "display_data"
    }
   ],
   "source": [
    "x = range(0,len(df[\"number\"]))\n",
    "y = df[\"closed_at\"]\n",
    "x = df[\"resolved_at\"]\n",
    "plt.scatter(x, y)\n",
    "plt.xlabel('resolved_at')\n",
    "plt.ylabel('closed_at')\n",
    "\n",
    "plt.show()"
   ]
  },
  {
   "cell_type": "code",
   "execution_count": 25,
   "metadata": {},
   "outputs": [],
   "source": [
    "#on drop closed_at : variable très similaire à la variable à prédire mais semble plus fiable\n",
    "df.drop(\"closed_at\",axis=1,inplace=True)"
   ]
  },
  {
   "cell_type": "code",
   "execution_count": 26,
   "metadata": {},
   "outputs": [],
   "source": [
    "listToDateTime = ['opened_at', 'sys_updated_at', 'resolved_at', 'sys_created_at']\n",
    "def ConvertToDateTime(dataframe, col):\n",
    "    dataframe[col] = pd.to_datetime(dataframe[col], dayfirst = True)\n",
    "    return dataframe\n",
    "#Création de colonnes pour diviser les infos contenues dans les datetimes\n",
    "def TimestampCol(df, col):\n",
    "    newCol = []\n",
    "    for i in range(len(df[col])):\n",
    "        newCol.append(datetime.timestamp(df[col][i]))\n",
    "    return newCol\n",
    "def IsWeekend(df, col):\n",
    "    newCol = []\n",
    "    for i in range(len(df[col])):\n",
    "        if(df[col][i].weekday()==5 or df[col][i].weekday() == 6):\n",
    "            newCol.append(1)\n",
    "        else:\n",
    "            newCol.append(0)\n",
    "    return newCol"
   ]
  },
  {
   "cell_type": "code",
   "execution_count": 27,
   "metadata": {},
   "outputs": [],
   "source": [
    "for col in listToDateTime:\n",
    "    df = ConvertToDateTime(df, col)\n",
    "for col in listToDateTime:\n",
    "    df[col + '_TS'] = TimestampCol(df, col)\n",
    "listToDateTime.remove('resolved_at')\n",
    "df.drop(\"resolved_at\",axis=1,inplace=True)\n",
    "for col in listToDateTime:\n",
    "    df[col + '_weekend'] = IsWeekend(df, col)\n",
    "for col in listToDateTime:\n",
    "    df.drop(col,axis=1,inplace=True)"
   ]
  },
  {
   "cell_type": "code",
   "execution_count": null,
   "metadata": {},
   "outputs": [],
   "source": [
    "#opened_at_weekend et sys_created_at_weekend valeurs toujours nulles, on supprime les colonnes\n",
    "df.drop(\"opened_at_weekend\",axis=1,inplace=True)\n",
    "df.drop(\"sys_created_at_weekend\",axis=1,inplace=True)"
   ]
  },
  {
   "cell_type": "code",
   "execution_count": 28,
   "metadata": {
    "scrolled": true
   },
   "outputs": [
    {
     "name": "stdout",
     "output_type": "stream",
     "text": [
      "<class 'pandas.core.frame.DataFrame'>\n",
      "RangeIndex: 10000 entries, 0 to 9999\n",
      "Data columns (total 33 columns):\n",
      "number                     10000 non-null int64\n",
      "incident_state             10000 non-null object\n",
      "active                     10000 non-null bool\n",
      "reassignment_count         10000 non-null int64\n",
      "reopen_count               10000 non-null int64\n",
      "sys_mod_count              10000 non-null int64\n",
      "made_sla                   10000 non-null bool\n",
      "caller_id                  10000 non-null int64\n",
      "opened_by                  10000 non-null int64\n",
      "sys_created_by             10000 non-null int64\n",
      "sys_updated_by             10000 non-null int64\n",
      "contact_type               10000 non-null object\n",
      "location                   10000 non-null int64\n",
      "category                   10000 non-null int64\n",
      "subcategory                10000 non-null int64\n",
      "u_symptom                  10000 non-null int64\n",
      "impact                     10000 non-null int64\n",
      "urgency                    10000 non-null int64\n",
      "priority                   10000 non-null int64\n",
      "assignment_group           10000 non-null int64\n",
      "assigned_to                10000 non-null int64\n",
      "knowledge                  10000 non-null bool\n",
      "u_priority_confirmation    10000 non-null bool\n",
      "notify                     10000 non-null object\n",
      "closed_code                10000 non-null int64\n",
      "resolved_by                10000 non-null int64\n",
      "opened_at_TS               10000 non-null float64\n",
      "sys_updated_at_TS          10000 non-null float64\n",
      "resolved_at_TS             10000 non-null float64\n",
      "sys_created_at_TS          10000 non-null float64\n",
      "opened_at_weekend          10000 non-null int64\n",
      "sys_updated_at_weekend     10000 non-null int64\n",
      "sys_created_at_weekend     10000 non-null int64\n",
      "dtypes: bool(4), float64(4), int64(22), object(3)\n",
      "memory usage: 2.3+ MB\n"
     ]
    }
   ],
   "source": [
    "df.info()"
   ]
  },
  {
   "cell_type": "code",
   "execution_count": 29,
   "metadata": {},
   "outputs": [],
   "source": [
    "df = pd.get_dummies(df)"
   ]
  },
  {
   "cell_type": "code",
   "execution_count": 139,
   "metadata": {},
   "outputs": [
    {
     "data": {
      "text/plain": [
       "(10000, 40)"
      ]
     },
     "execution_count": 139,
     "metadata": {},
     "output_type": "execute_result"
    }
   ],
   "source": [
    "df.shape"
   ]
  },
  {
   "cell_type": "code",
   "execution_count": 31,
   "metadata": {},
   "outputs": [],
   "source": [
    "df.to_csv(\"dataframe.csv\")"
   ]
  },
  {
   "cell_type": "code",
   "execution_count": 154,
   "metadata": {},
   "outputs": [
    {
     "data": {
      "image/png": "[encoded data removed]",
      "text/plain": [
       "<Figure size 1368x1080 with 2 Axes>"
      ]
     },
     "metadata": {
      "needs_background": "light"
     },
     "output_type": "display_data"
    }
   ],
   "source": [
    "f = plt.figure(figsize=(19, 15))\n",
    "plt.matshow(df.corr(), fignum=f.number)\n",
    "plt.xticks(range(df.shape[1]), df.columns, fontsize=14, rotation=45)\n",
    "plt.yticks(range(df.shape[1]), df.columns, fontsize=14)\n",
    "cb = plt.colorbar()\n",
    "cb.ax.tick_params(labelsize=14)\n",
    "plt.title('Correlation Matrix', fontsize=16);"
   ]
  },
  {
   "cell_type": "code",
   "execution_count": 135,
   "metadata": {},
   "outputs": [],
   "source": [
    "from sklearn.model_selection import train_test_split, GridSearchCV, cross_val_score, KFold\n",
    "from sklearn.metrics import mean_squared_error\n",
    "from sklearn.linear_model import LinearRegression\n",
    "from sklearn.tree import DecisionTreeRegressor\n",
    "from sklearn.ensemble import RandomForestRegressor, ExtraTreesRegressor\n",
    "from catboost import CatBoostRegressor\n",
    "from sklearn.calibration import CalibratedClassifierCV\n",
    "from sklearn.preprocessing import StandardScaler\n",
    "import statsmodels.api as sm\n",
    "import seaborn as sns\n",
    "from sklearn import svm\n",
    "import numpy as np"
   ]
  },
  {
   "cell_type": "code",
   "execution_count": 33,
   "metadata": {},
   "outputs": [],
   "source": [
    "#On prend resolved_at comme target, on utilise le timestamp"
   ]
  },
  {
   "cell_type": "code",
   "execution_count": 34,
   "metadata": {},
   "outputs": [],
   "source": [
    "train_set, test_set = train_test_split(df, test_size=0.2, random_state=0)\n",
    "\n",
    "X_train = train_set.drop(columns = [\"resolved_at_TS\"])\n",
    "Y_train = train_set[\"resolved_at_TS\"]\n",
    "\n",
    "X_test = test_set.drop(columns = [\"resolved_at_TS\"])\n",
    "Y_test = test_set[\"resolved_at_TS\"]"
   ]
  },
  {
   "cell_type": "code",
   "execution_count": 35,
   "metadata": {},
   "outputs": [
    {
     "data": {
      "text/plain": [
       "StandardScaler(copy=True, with_mean=True, with_std=True)"
      ]
     },
     "execution_count": 35,
     "metadata": {},
     "output_type": "execute_result"
    }
   ],
   "source": [
    "#Si on veut des valeurs à la même échelle, pour une meilleure interprétabilité des coefficients\n",
    "scaler = StandardScaler()\n",
    "scaler.fit(X_train)"
   ]
  },
  {
   "cell_type": "code",
   "execution_count": 36,
   "metadata": {},
   "outputs": [],
   "source": [
    "X_train = scaler.transform(X_train)\n",
    "X_test = scaler.transform(X_test)"
   ]
  },
  {
   "cell_type": "code",
   "execution_count": 37,
   "metadata": {},
   "outputs": [
    {
     "data": {
      "text/plain": [
       "LinearRegression(copy_X=True, fit_intercept=True, n_jobs=None, normalize=False)"
      ]
     },
     "execution_count": 37,
     "metadata": {},
     "output_type": "execute_result"
    }
   ],
   "source": [
    "LR = LinearRegression()\n",
    "LR.fit(X_train, Y_train)"
   ]
  },
  {
   "cell_type": "code",
   "execution_count": 38,
   "metadata": {},
   "outputs": [
    {
     "data": {
      "text/plain": [
       "array([ 9.37282582e+05,  6.36201371e+17, -1.48113702e+05,  7.60077402e+03,\n",
       "        9.42849254e+04,  1.99454013e+05, -1.80076640e+04,  9.68446674e+04,\n",
       "       -2.61045902e+03,  1.54876823e+05,  1.46218445e+05,  1.83407970e+05,\n",
       "        1.00792232e+05, -5.29329509e+04,  1.28351802e+05,  2.45199134e+05,\n",
       "       -1.50207543e+05, -2.00165656e+04,  2.71372553e+05,  1.41607566e+04,\n",
       "        6.50129403e+03, -1.47440521e+05, -3.05563533e+05, -2.24881023e+05,\n",
       "        2.16791385e+06, -5.36096646e+05, -1.39248030e+15,  7.41069461e+03,\n",
       "        2.64749227e+13,  1.60653597e+17,  7.15959328e+15,  3.96379805e+16,\n",
       "        1.34833909e+17,  1.70283160e+16,  7.66497583e+17,  1.65830432e+17,\n",
       "        1.32537615e+17,  0.00000000e+00,  0.00000000e+00])"
      ]
     },
     "execution_count": 38,
     "metadata": {},
     "output_type": "execute_result"
    }
   ],
   "source": [
    "LR.coef_"
   ]
  },
  {
   "cell_type": "code",
   "execution_count": 39,
   "metadata": {},
   "outputs": [
    {
     "data": {
      "text/plain": [
       "0.5777861206407795"
      ]
     },
     "execution_count": 39,
     "metadata": {},
     "output_type": "execute_result"
    }
   ],
   "source": [
    "LR.score(X_test, Y_test)"
   ]
  },
  {
   "cell_type": "code",
   "execution_count": 40,
   "metadata": {},
   "outputs": [
    {
     "data": {
      "text/plain": [
       "0.5661140960034794"
      ]
     },
     "execution_count": 40,
     "metadata": {},
     "output_type": "execute_result"
    }
   ],
   "source": [
    "LR.score(X_train, Y_train)"
   ]
  },
  {
   "cell_type": "code",
   "execution_count": 41,
   "metadata": {},
   "outputs": [
    {
     "data": {
      "text/plain": [
       "<matplotlib.collections.PathCollection at 0x2238c6bb7b8>"
      ]
     },
     "execution_count": 41,
     "metadata": {},
     "output_type": "execute_result"
    },
    {
     "data": {
      "image/png": "[encoded data removed]",
      "text/plain": [
       "<Figure size 432x288 with 1 Axes>"
      ]
     },
     "metadata": {
      "needs_background": "light"
     },
     "output_type": "display_data"
    }
   ],
   "source": [
    "plt.scatter(x = Y_test, y=LR.predict(X_test))"
   ]
  },
  {
   "cell_type": "code",
   "execution_count": 42,
   "metadata": {},
   "outputs": [
    {
     "data": {
      "text/plain": [
       "4378375705867.5054"
      ]
     },
     "execution_count": 42,
     "metadata": {},
     "output_type": "execute_result"
    }
   ],
   "source": [
    "predictions = LR.predict(X_test)\n",
    "mse = mean_squared_error(Y_test, predictions)\n",
    "mse"
   ]
  },
  {
   "cell_type": "code",
   "execution_count": 43,
   "metadata": {},
   "outputs": [],
   "source": [
    "def get_score(algorithme, X_train, X_test, y_train, y_test, display_graph = False, display_options = True):\n",
    "    if display_options:\n",
    "        print(\"fitting :\\n\"+ str(algorithme))\n",
    "        print(\"X_train:{} , X_test:{} ,  y_train:{} ,  y_test:{}\".format(X_train.shape, X_test.shape, y_train.shape, y_test.shape))\n",
    "    modele = algorithme.fit(X_train, y_train)\n",
    "    score  = modele.score(X_test, y_test)\n",
    "    if display_graph:\n",
    "        plt.scatter(x=y_test, y=algorithme.predict(X_test)) ## Predictions against real values\n",
    "    return score"
   ]
  },
  {
   "cell_type": "code",
   "execution_count": 44,
   "metadata": {},
   "outputs": [],
   "source": [
    "def get_mse(algorithme, X_train, X_test, y_train, y_test):\n",
    "    modele = algorithme.fit(X_train, y_train)\n",
    "    predictions = modele.predict(X_test)\n",
    "    mse = mean_squared_error(Y_test, predictions)\n",
    "    return mse"
   ]
  },
  {
   "cell_type": "code",
   "execution_count": 102,
   "metadata": {},
   "outputs": [],
   "source": [
    "def get_features(algorithme, X_train, X_test, y_train, y_test):\n",
    "    modele = algorithme.fit(X_train, y_train)\n",
    "    importances = modele.feature_importances_\n",
    "    return importances"
   ]
  },
  {
   "cell_type": "code",
   "execution_count": 45,
   "metadata": {},
   "outputs": [
    {
     "name": "stdout",
     "output_type": "stream",
     "text": [
      "fitting :\n",
      "LinearRegression(copy_X=True, fit_intercept=True, n_jobs=None, normalize=False)\n",
      "X_train:(8000, 39) , X_test:(2000, 39) ,  y_train:(8000,) ,  y_test:(2000,)\n"
     ]
    },
    {
     "data": {
      "text/plain": [
       "0.5777861206407795"
      ]
     },
     "execution_count": 45,
     "metadata": {},
     "output_type": "execute_result"
    },
    {
     "data": {
      "image/png": "[encoded data removed]",
      "text/plain": [
       "<Figure size 432x288 with 1 Axes>"
      ]
     },
     "metadata": {
      "needs_background": "light"
     },
     "output_type": "display_data"
    }
   ],
   "source": [
    "get_score(LinearRegression(), X_train, X_test, Y_train, Y_test, True)"
   ]
  },
  {
   "cell_type": "code",
   "execution_count": 46,
   "metadata": {},
   "outputs": [
    {
     "name": "stdout",
     "output_type": "stream",
     "text": [
      "fitting :\n",
      "DecisionTreeRegressor(criterion='mse', max_depth=None, max_features=None,\n",
      "                      max_leaf_nodes=None, min_impurity_decrease=0.0,\n",
      "                      min_impurity_split=None, min_samples_leaf=1,\n",
      "                      min_samples_split=2, min_weight_fraction_leaf=0.0,\n",
      "                      presort=False, random_state=None, splitter='best')\n",
      "X_train:(8000, 39) , X_test:(2000, 39) ,  y_train:(8000,) ,  y_test:(2000,)\n"
     ]
    },
    {
     "data": {
      "text/plain": [
       "0.7352500586270724"
      ]
     },
     "execution_count": 46,
     "metadata": {},
     "output_type": "execute_result"
    },
    {
     "data": {
      "image/png": "[encoded data removed]",
      "text/plain": [
       "<Figure size 432x288 with 1 Axes>"
      ]
     },
     "metadata": {
      "needs_background": "light"
     },
     "output_type": "display_data"
    }
   ],
   "source": [
    "get_score(DecisionTreeRegressor(), X_train, X_test, Y_train, Y_test, True)"
   ]
  },
  {
   "cell_type": "code",
   "execution_count": 111,
   "metadata": {},
   "outputs": [
    {
     "data": {
      "text/plain": [
       "array([1.28356078e-02, 8.77225914e-04, 1.69674334e-03, 1.16342600e-03,\n",
       "       9.04256440e-03, 8.04583424e-07, 2.80710329e-02, 2.81473930e-02,\n",
       "       3.55001088e-03, 8.28631574e-03, 3.09311045e-02, 6.38564317e-03,\n",
       "       8.63304971e-02, 1.22379809e-02, 1.15860273e-04, 9.56189832e-04,\n",
       "       6.92232088e-04, 9.75013129e-03, 2.14964365e-02, 5.71500088e-06,\n",
       "       5.58853087e-03, 2.11082688e-02, 1.12526131e-01, 2.73340296e-02,\n",
       "       5.35873627e-01, 1.72908303e-02, 0.00000000e+00, 1.20723788e-05,\n",
       "       0.00000000e+00, 4.88799352e-03, 0.00000000e+00, 3.05334268e-03,\n",
       "       2.47341497e-03, 0.00000000e+00, 3.70418885e-03, 2.56896349e-03,\n",
       "       1.00569165e-03, 0.00000000e+00, 0.00000000e+00])"
      ]
     },
     "execution_count": 111,
     "metadata": {},
     "output_type": "execute_result"
    }
   ],
   "source": [
    "get_features(DecisionTreeRegressor(), X_train, X_test, Y_train, Y_test)"
   ]
  },
  {
   "cell_type": "code",
   "execution_count": 47,
   "metadata": {},
   "outputs": [
    {
     "name": "stdout",
     "output_type": "stream",
     "text": [
      "fitting :\n",
      "RandomForestRegressor(bootstrap=True, criterion='mse', max_depth=None,\n",
      "                      max_features='auto', max_leaf_nodes=None,\n",
      "                      min_impurity_decrease=0.0, min_impurity_split=None,\n",
      "                      min_samples_leaf=1, min_samples_split=2,\n",
      "                      min_weight_fraction_leaf=0.0, n_estimators='warn',\n",
      "                      n_jobs=None, oob_score=False, random_state=None,\n",
      "                      verbose=0, warm_start=False)\n",
      "X_train:(8000, 39) , X_test:(2000, 39) ,  y_train:(8000,) ,  y_test:(2000,)\n"
     ]
    },
    {
     "name": "stderr",
     "output_type": "stream",
     "text": [
      "C:\\Users\\Guillaume\\Anaconda3\\lib\\site-packages\\sklearn\\ensemble\\forest.py:245: FutureWarning: The default value of n_estimators will change from 10 in version 0.20 to 100 in 0.22.\n",
      "  \"10 in version 0.20 to 100 in 0.22.\", FutureWarning)\n"
     ]
    },
    {
     "data": {
      "text/plain": [
       "0.8808392251362431"
      ]
     },
     "execution_count": 47,
     "metadata": {},
     "output_type": "execute_result"
    },
    {
     "data": {
      "image/png": "[encoded data removed]",
      "text/plain": [
       "<Figure size 432x288 with 1 Axes>"
      ]
     },
     "metadata": {
      "needs_background": "light"
     },
     "output_type": "display_data"
    }
   ],
   "source": [
    "get_score(RandomForestRegressor(), X_train, X_test, Y_train, Y_test, True)"
   ]
  },
  {
   "cell_type": "code",
   "execution_count": 123,
   "metadata": {},
   "outputs": [
    {
     "name": "stderr",
     "output_type": "stream",
     "text": [
      "C:\\Users\\Guillaume\\Anaconda3\\lib\\site-packages\\sklearn\\ensemble\\forest.py:245: FutureWarning: The default value of n_estimators will change from 10 in version 0.20 to 100 in 0.22.\n",
      "  \"10 in version 0.20 to 100 in 0.22.\", FutureWarning)\n"
     ]
    }
   ],
   "source": [
    "features = get_features(RandomForestRegressor(), X_train, X_test, Y_train, Y_test)"
   ]
  },
  {
   "cell_type": "code",
   "execution_count": 150,
   "metadata": {},
   "outputs": [
    {
     "ename": "KeyError",
     "evalue": "\"['resolved_at_TS'] not found in axis\"",
     "output_type": "error",
     "traceback": [
      "\u001b[1;31m---------------------------------------------------------------------------\u001b[0m",
      "\u001b[1;31mKeyError\u001b[0m                                  Traceback (most recent call last)",
      "\u001b[1;32m<ipython-input-150-bb262e842ae9>\u001b[0m in \u001b[0;36m<module>\u001b[1;34m\u001b[0m\n\u001b[0;32m      1\u001b[0m \u001b[0mdfx\u001b[0m \u001b[1;33m=\u001b[0m \u001b[0mdf\u001b[0m\u001b[1;33m.\u001b[0m\u001b[0mcopy\u001b[0m\u001b[1;33m(\u001b[0m\u001b[1;33m)\u001b[0m\u001b[1;33m\u001b[0m\u001b[1;33m\u001b[0m\u001b[0m\n\u001b[1;32m----> 2\u001b[1;33m \u001b[0mdfx\u001b[0m\u001b[1;33m.\u001b[0m\u001b[0mdrop\u001b[0m\u001b[1;33m(\u001b[0m\u001b[1;34m\"resolved_at_TS\"\u001b[0m\u001b[1;33m,\u001b[0m\u001b[0maxis\u001b[0m\u001b[1;33m=\u001b[0m\u001b[1;36m1\u001b[0m\u001b[1;33m,\u001b[0m\u001b[0minplace\u001b[0m\u001b[1;33m=\u001b[0m\u001b[1;32mTrue\u001b[0m\u001b[1;33m)\u001b[0m\u001b[1;33m\u001b[0m\u001b[1;33m\u001b[0m\u001b[0m\n\u001b[0m",
      "\u001b[1;32m~\\Anaconda3\\lib\\site-packages\\pandas\\core\\frame.py\u001b[0m in \u001b[0;36mdrop\u001b[1;34m(self, labels, axis, index, columns, level, inplace, errors)\u001b[0m\n\u001b[0;32m   4100\u001b[0m             \u001b[0mlevel\u001b[0m\u001b[1;33m=\u001b[0m\u001b[0mlevel\u001b[0m\u001b[1;33m,\u001b[0m\u001b[1;33m\u001b[0m\u001b[1;33m\u001b[0m\u001b[0m\n\u001b[0;32m   4101\u001b[0m             \u001b[0minplace\u001b[0m\u001b[1;33m=\u001b[0m\u001b[0minplace\u001b[0m\u001b[1;33m,\u001b[0m\u001b[1;33m\u001b[0m\u001b[1;33m\u001b[0m\u001b[0m\n\u001b[1;32m-> 4102\u001b[1;33m             \u001b[0merrors\u001b[0m\u001b[1;33m=\u001b[0m\u001b[0merrors\u001b[0m\u001b[1;33m,\u001b[0m\u001b[1;33m\u001b[0m\u001b[1;33m\u001b[0m\u001b[0m\n\u001b[0m\u001b[0;32m   4103\u001b[0m         )\n\u001b[0;32m   4104\u001b[0m \u001b[1;33m\u001b[0m\u001b[0m\n",
      "\u001b[1;32m~\\Anaconda3\\lib\\site-packages\\pandas\\core\\generic.py\u001b[0m in \u001b[0;36mdrop\u001b[1;34m(self, labels, axis, index, columns, level, inplace, errors)\u001b[0m\n\u001b[0;32m   3912\u001b[0m         \u001b[1;32mfor\u001b[0m \u001b[0maxis\u001b[0m\u001b[1;33m,\u001b[0m \u001b[0mlabels\u001b[0m \u001b[1;32min\u001b[0m \u001b[0maxes\u001b[0m\u001b[1;33m.\u001b[0m\u001b[0mitems\u001b[0m\u001b[1;33m(\u001b[0m\u001b[1;33m)\u001b[0m\u001b[1;33m:\u001b[0m\u001b[1;33m\u001b[0m\u001b[1;33m\u001b[0m\u001b[0m\n\u001b[0;32m   3913\u001b[0m             \u001b[1;32mif\u001b[0m \u001b[0mlabels\u001b[0m \u001b[1;32mis\u001b[0m \u001b[1;32mnot\u001b[0m \u001b[1;32mNone\u001b[0m\u001b[1;33m:\u001b[0m\u001b[1;33m\u001b[0m\u001b[1;33m\u001b[0m\u001b[0m\n\u001b[1;32m-> 3914\u001b[1;33m                 \u001b[0mobj\u001b[0m \u001b[1;33m=\u001b[0m \u001b[0mobj\u001b[0m\u001b[1;33m.\u001b[0m\u001b[0m_drop_axis\u001b[0m\u001b[1;33m(\u001b[0m\u001b[0mlabels\u001b[0m\u001b[1;33m,\u001b[0m \u001b[0maxis\u001b[0m\u001b[1;33m,\u001b[0m \u001b[0mlevel\u001b[0m\u001b[1;33m=\u001b[0m\u001b[0mlevel\u001b[0m\u001b[1;33m,\u001b[0m \u001b[0merrors\u001b[0m\u001b[1;33m=\u001b[0m\u001b[0merrors\u001b[0m\u001b[1;33m)\u001b[0m\u001b[1;33m\u001b[0m\u001b[1;33m\u001b[0m\u001b[0m\n\u001b[0m\u001b[0;32m   3915\u001b[0m \u001b[1;33m\u001b[0m\u001b[0m\n\u001b[0;32m   3916\u001b[0m         \u001b[1;32mif\u001b[0m \u001b[0minplace\u001b[0m\u001b[1;33m:\u001b[0m\u001b[1;33m\u001b[0m\u001b[1;33m\u001b[0m\u001b[0m\n",
      "\u001b[1;32m~\\Anaconda3\\lib\\site-packages\\pandas\\core\\generic.py\u001b[0m in \u001b[0;36m_drop_axis\u001b[1;34m(self, labels, axis, level, errors)\u001b[0m\n\u001b[0;32m   3944\u001b[0m                 \u001b[0mnew_axis\u001b[0m \u001b[1;33m=\u001b[0m \u001b[0maxis\u001b[0m\u001b[1;33m.\u001b[0m\u001b[0mdrop\u001b[0m\u001b[1;33m(\u001b[0m\u001b[0mlabels\u001b[0m\u001b[1;33m,\u001b[0m \u001b[0mlevel\u001b[0m\u001b[1;33m=\u001b[0m\u001b[0mlevel\u001b[0m\u001b[1;33m,\u001b[0m \u001b[0merrors\u001b[0m\u001b[1;33m=\u001b[0m\u001b[0merrors\u001b[0m\u001b[1;33m)\u001b[0m\u001b[1;33m\u001b[0m\u001b[1;33m\u001b[0m\u001b[0m\n\u001b[0;32m   3945\u001b[0m             \u001b[1;32melse\u001b[0m\u001b[1;33m:\u001b[0m\u001b[1;33m\u001b[0m\u001b[1;33m\u001b[0m\u001b[0m\n\u001b[1;32m-> 3946\u001b[1;33m                 \u001b[0mnew_axis\u001b[0m \u001b[1;33m=\u001b[0m \u001b[0maxis\u001b[0m\u001b[1;33m.\u001b[0m\u001b[0mdrop\u001b[0m\u001b[1;33m(\u001b[0m\u001b[0mlabels\u001b[0m\u001b[1;33m,\u001b[0m \u001b[0merrors\u001b[0m\u001b[1;33m=\u001b[0m\u001b[0merrors\u001b[0m\u001b[1;33m)\u001b[0m\u001b[1;33m\u001b[0m\u001b[1;33m\u001b[0m\u001b[0m\n\u001b[0m\u001b[0;32m   3947\u001b[0m             \u001b[0mresult\u001b[0m \u001b[1;33m=\u001b[0m \u001b[0mself\u001b[0m\u001b[1;33m.\u001b[0m\u001b[0mreindex\u001b[0m\u001b[1;33m(\u001b[0m\u001b[1;33m**\u001b[0m\u001b[1;33m{\u001b[0m\u001b[0maxis_name\u001b[0m\u001b[1;33m:\u001b[0m \u001b[0mnew_axis\u001b[0m\u001b[1;33m}\u001b[0m\u001b[1;33m)\u001b[0m\u001b[1;33m\u001b[0m\u001b[1;33m\u001b[0m\u001b[0m\n\u001b[0;32m   3948\u001b[0m \u001b[1;33m\u001b[0m\u001b[0m\n",
      "\u001b[1;32m~\\Anaconda3\\lib\\site-packages\\pandas\\core\\indexes\\base.py\u001b[0m in \u001b[0;36mdrop\u001b[1;34m(self, labels, errors)\u001b[0m\n\u001b[0;32m   5338\u001b[0m         \u001b[1;32mif\u001b[0m \u001b[0mmask\u001b[0m\u001b[1;33m.\u001b[0m\u001b[0many\u001b[0m\u001b[1;33m(\u001b[0m\u001b[1;33m)\u001b[0m\u001b[1;33m:\u001b[0m\u001b[1;33m\u001b[0m\u001b[1;33m\u001b[0m\u001b[0m\n\u001b[0;32m   5339\u001b[0m             \u001b[1;32mif\u001b[0m \u001b[0merrors\u001b[0m \u001b[1;33m!=\u001b[0m \u001b[1;34m\"ignore\"\u001b[0m\u001b[1;33m:\u001b[0m\u001b[1;33m\u001b[0m\u001b[1;33m\u001b[0m\u001b[0m\n\u001b[1;32m-> 5340\u001b[1;33m                 \u001b[1;32mraise\u001b[0m \u001b[0mKeyError\u001b[0m\u001b[1;33m(\u001b[0m\u001b[1;34m\"{} not found in axis\"\u001b[0m\u001b[1;33m.\u001b[0m\u001b[0mformat\u001b[0m\u001b[1;33m(\u001b[0m\u001b[0mlabels\u001b[0m\u001b[1;33m[\u001b[0m\u001b[0mmask\u001b[0m\u001b[1;33m]\u001b[0m\u001b[1;33m)\u001b[0m\u001b[1;33m)\u001b[0m\u001b[1;33m\u001b[0m\u001b[1;33m\u001b[0m\u001b[0m\n\u001b[0m\u001b[0;32m   5341\u001b[0m             \u001b[0mindexer\u001b[0m \u001b[1;33m=\u001b[0m \u001b[0mindexer\u001b[0m\u001b[1;33m[\u001b[0m\u001b[1;33m~\u001b[0m\u001b[0mmask\u001b[0m\u001b[1;33m]\u001b[0m\u001b[1;33m\u001b[0m\u001b[1;33m\u001b[0m\u001b[0m\n\u001b[0;32m   5342\u001b[0m         \u001b[1;32mreturn\u001b[0m \u001b[0mself\u001b[0m\u001b[1;33m.\u001b[0m\u001b[0mdelete\u001b[0m\u001b[1;33m(\u001b[0m\u001b[0mindexer\u001b[0m\u001b[1;33m)\u001b[0m\u001b[1;33m\u001b[0m\u001b[1;33m\u001b[0m\u001b[0m\n",
      "\u001b[1;31mKeyError\u001b[0m: \"['resolved_at_TS'] not found in axis\""
     ]
    }
   ],
   "source": [
    "dfx = df.copy()\n",
    "dfx.drop(\"resolved_at_TS\",axis=1,inplace=True)"
   ]
  },
  {
   "cell_type": "code",
   "execution_count": 149,
   "metadata": {},
   "outputs": [
    {
     "data": {
      "text/plain": [
       "39"
      ]
     },
     "execution_count": 149,
     "metadata": {},
     "output_type": "execute_result"
    }
   ],
   "source": [
    "len(df.columns)"
   ]
  },
  {
   "cell_type": "code",
   "execution_count": 151,
   "metadata": {},
   "outputs": [],
   "source": [
    "feature_imp = pd.DataFrame({'col':dfx.columns, 'importance':RandomForestRegressor.feature_importances_})\n",
    "#feature_imp = feature_imp.sort_values('importance', ascending = False)"
   ]
  },
  {
   "cell_type": "code",
   "execution_count": 152,
   "metadata": {},
   "outputs": [
    {
     "ename": "TypeError",
     "evalue": "float() argument must be a string or a number, not 'property'",
     "output_type": "error",
     "traceback": [
      "\u001b[1;31m---------------------------------------------------------------------------\u001b[0m",
      "\u001b[1;31mTypeError\u001b[0m                                 Traceback (most recent call last)",
      "\u001b[1;32m<ipython-input-152-67ae0e38615f>\u001b[0m in \u001b[0;36m<module>\u001b[1;34m\u001b[0m\n\u001b[0;32m      1\u001b[0m \u001b[0mfig\u001b[0m\u001b[1;33m,\u001b[0m \u001b[0max\u001b[0m\u001b[1;33m=\u001b[0m\u001b[0mplt\u001b[0m\u001b[1;33m.\u001b[0m\u001b[0msubplots\u001b[0m\u001b[1;33m(\u001b[0m\u001b[0mfigsize\u001b[0m\u001b[1;33m=\u001b[0m\u001b[1;33m(\u001b[0m\u001b[1;36m20\u001b[0m\u001b[1;33m,\u001b[0m\u001b[1;36m10\u001b[0m\u001b[1;33m)\u001b[0m\u001b[1;33m)\u001b[0m\u001b[1;33m\u001b[0m\u001b[1;33m\u001b[0m\u001b[0m\n\u001b[1;32m----> 2\u001b[1;33m \u001b[0msns\u001b[0m\u001b[1;33m.\u001b[0m\u001b[0mbarplot\u001b[0m\u001b[1;33m(\u001b[0m\u001b[0mx\u001b[0m\u001b[1;33m=\u001b[0m\u001b[1;34m'importance'\u001b[0m\u001b[1;33m,\u001b[0m \u001b[0my\u001b[0m\u001b[1;33m=\u001b[0m\u001b[1;34m'col'\u001b[0m\u001b[1;33m,\u001b[0m \u001b[0mdata\u001b[0m\u001b[1;33m=\u001b[0m\u001b[0mfeature_imp\u001b[0m\u001b[1;33m)\u001b[0m\u001b[1;33m\u001b[0m\u001b[1;33m\u001b[0m\u001b[0m\n\u001b[0m",
      "\u001b[1;32m~\\Anaconda3\\lib\\site-packages\\seaborn\\categorical.py\u001b[0m in \u001b[0;36mbarplot\u001b[1;34m(x, y, hue, data, order, hue_order, estimator, ci, n_boot, units, orient, color, palette, saturation, errcolor, errwidth, capsize, dodge, ax, **kwargs)\u001b[0m\n\u001b[0;32m   3147\u001b[0m                           \u001b[0mestimator\u001b[0m\u001b[1;33m,\u001b[0m \u001b[0mci\u001b[0m\u001b[1;33m,\u001b[0m \u001b[0mn_boot\u001b[0m\u001b[1;33m,\u001b[0m \u001b[0munits\u001b[0m\u001b[1;33m,\u001b[0m\u001b[1;33m\u001b[0m\u001b[1;33m\u001b[0m\u001b[0m\n\u001b[0;32m   3148\u001b[0m                           \u001b[0morient\u001b[0m\u001b[1;33m,\u001b[0m \u001b[0mcolor\u001b[0m\u001b[1;33m,\u001b[0m \u001b[0mpalette\u001b[0m\u001b[1;33m,\u001b[0m \u001b[0msaturation\u001b[0m\u001b[1;33m,\u001b[0m\u001b[1;33m\u001b[0m\u001b[1;33m\u001b[0m\u001b[0m\n\u001b[1;32m-> 3149\u001b[1;33m                           errcolor, errwidth, capsize, dodge)\n\u001b[0m\u001b[0;32m   3150\u001b[0m \u001b[1;33m\u001b[0m\u001b[0m\n\u001b[0;32m   3151\u001b[0m     \u001b[1;32mif\u001b[0m \u001b[0max\u001b[0m \u001b[1;32mis\u001b[0m \u001b[1;32mNone\u001b[0m\u001b[1;33m:\u001b[0m\u001b[1;33m\u001b[0m\u001b[1;33m\u001b[0m\u001b[0m\n",
      "\u001b[1;32m~\\Anaconda3\\lib\\site-packages\\seaborn\\categorical.py\u001b[0m in \u001b[0;36m__init__\u001b[1;34m(self, x, y, hue, data, order, hue_order, estimator, ci, n_boot, units, orient, color, palette, saturation, errcolor, errwidth, capsize, dodge)\u001b[0m\n\u001b[0;32m   1605\u001b[0m         \u001b[1;34m\"\"\"Initialize the plotter.\"\"\"\u001b[0m\u001b[1;33m\u001b[0m\u001b[1;33m\u001b[0m\u001b[0m\n\u001b[0;32m   1606\u001b[0m         self.establish_variables(x, y, hue, data, orient,\n\u001b[1;32m-> 1607\u001b[1;33m                                  order, hue_order, units)\n\u001b[0m\u001b[0;32m   1608\u001b[0m         \u001b[0mself\u001b[0m\u001b[1;33m.\u001b[0m\u001b[0mestablish_colors\u001b[0m\u001b[1;33m(\u001b[0m\u001b[0mcolor\u001b[0m\u001b[1;33m,\u001b[0m \u001b[0mpalette\u001b[0m\u001b[1;33m,\u001b[0m \u001b[0msaturation\u001b[0m\u001b[1;33m)\u001b[0m\u001b[1;33m\u001b[0m\u001b[1;33m\u001b[0m\u001b[0m\n\u001b[0;32m   1609\u001b[0m         \u001b[0mself\u001b[0m\u001b[1;33m.\u001b[0m\u001b[0mestimate_statistic\u001b[0m\u001b[1;33m(\u001b[0m\u001b[0mestimator\u001b[0m\u001b[1;33m,\u001b[0m \u001b[0mci\u001b[0m\u001b[1;33m,\u001b[0m \u001b[0mn_boot\u001b[0m\u001b[1;33m)\u001b[0m\u001b[1;33m\u001b[0m\u001b[1;33m\u001b[0m\u001b[0m\n",
      "\u001b[1;32m~\\Anaconda3\\lib\\site-packages\\seaborn\\categorical.py\u001b[0m in \u001b[0;36mestablish_variables\u001b[1;34m(self, x, y, hue, data, orient, order, hue_order, units)\u001b[0m\n\u001b[0;32m    156\u001b[0m \u001b[1;33m\u001b[0m\u001b[0m\n\u001b[0;32m    157\u001b[0m             \u001b[1;31m# Figure out the plotting orientation\u001b[0m\u001b[1;33m\u001b[0m\u001b[1;33m\u001b[0m\u001b[1;33m\u001b[0m\u001b[0m\n\u001b[1;32m--> 158\u001b[1;33m             \u001b[0morient\u001b[0m \u001b[1;33m=\u001b[0m \u001b[0mself\u001b[0m\u001b[1;33m.\u001b[0m\u001b[0minfer_orient\u001b[0m\u001b[1;33m(\u001b[0m\u001b[0mx\u001b[0m\u001b[1;33m,\u001b[0m \u001b[0my\u001b[0m\u001b[1;33m,\u001b[0m \u001b[0morient\u001b[0m\u001b[1;33m)\u001b[0m\u001b[1;33m\u001b[0m\u001b[1;33m\u001b[0m\u001b[0m\n\u001b[0m\u001b[0;32m    159\u001b[0m \u001b[1;33m\u001b[0m\u001b[0m\n\u001b[0;32m    160\u001b[0m             \u001b[1;31m# Option 2a:\u001b[0m\u001b[1;33m\u001b[0m\u001b[1;33m\u001b[0m\u001b[1;33m\u001b[0m\u001b[0m\n",
      "\u001b[1;32m~\\Anaconda3\\lib\\site-packages\\seaborn\\categorical.py\u001b[0m in \u001b[0;36minfer_orient\u001b[1;34m(self, x, y, orient)\u001b[0m\n\u001b[0;32m    358\u001b[0m                 \u001b[1;32mreturn\u001b[0m \u001b[1;34m\"h\"\u001b[0m\u001b[1;33m\u001b[0m\u001b[1;33m\u001b[0m\u001b[0m\n\u001b[0;32m    359\u001b[0m         \u001b[1;32melif\u001b[0m \u001b[0mis_not_numeric\u001b[0m\u001b[1;33m(\u001b[0m\u001b[0my\u001b[0m\u001b[1;33m)\u001b[0m\u001b[1;33m:\u001b[0m\u001b[1;33m\u001b[0m\u001b[1;33m\u001b[0m\u001b[0m\n\u001b[1;32m--> 360\u001b[1;33m             \u001b[1;32mif\u001b[0m \u001b[0mis_not_numeric\u001b[0m\u001b[1;33m(\u001b[0m\u001b[0mx\u001b[0m\u001b[1;33m)\u001b[0m\u001b[1;33m:\u001b[0m\u001b[1;33m\u001b[0m\u001b[1;33m\u001b[0m\u001b[0m\n\u001b[0m\u001b[0;32m    361\u001b[0m                 \u001b[1;32mraise\u001b[0m \u001b[0mValueError\u001b[0m\u001b[1;33m(\u001b[0m\u001b[0mno_numeric\u001b[0m\u001b[1;33m)\u001b[0m\u001b[1;33m\u001b[0m\u001b[1;33m\u001b[0m\u001b[0m\n\u001b[0;32m    362\u001b[0m             \u001b[1;32melse\u001b[0m\u001b[1;33m:\u001b[0m\u001b[1;33m\u001b[0m\u001b[1;33m\u001b[0m\u001b[0m\n",
      "\u001b[1;32m~\\Anaconda3\\lib\\site-packages\\seaborn\\categorical.py\u001b[0m in \u001b[0;36mis_not_numeric\u001b[1;34m(s)\u001b[0m\n\u001b[0;32m    337\u001b[0m         \u001b[1;32mdef\u001b[0m \u001b[0mis_not_numeric\u001b[0m\u001b[1;33m(\u001b[0m\u001b[0ms\u001b[0m\u001b[1;33m)\u001b[0m\u001b[1;33m:\u001b[0m\u001b[1;33m\u001b[0m\u001b[1;33m\u001b[0m\u001b[0m\n\u001b[0;32m    338\u001b[0m             \u001b[1;32mtry\u001b[0m\u001b[1;33m:\u001b[0m\u001b[1;33m\u001b[0m\u001b[1;33m\u001b[0m\u001b[0m\n\u001b[1;32m--> 339\u001b[1;33m                 \u001b[0mnp\u001b[0m\u001b[1;33m.\u001b[0m\u001b[0masarray\u001b[0m\u001b[1;33m(\u001b[0m\u001b[0ms\u001b[0m\u001b[1;33m,\u001b[0m \u001b[0mdtype\u001b[0m\u001b[1;33m=\u001b[0m\u001b[0mnp\u001b[0m\u001b[1;33m.\u001b[0m\u001b[0mfloat\u001b[0m\u001b[1;33m)\u001b[0m\u001b[1;33m\u001b[0m\u001b[1;33m\u001b[0m\u001b[0m\n\u001b[0m\u001b[0;32m    340\u001b[0m             \u001b[1;32mexcept\u001b[0m \u001b[0mValueError\u001b[0m\u001b[1;33m:\u001b[0m\u001b[1;33m\u001b[0m\u001b[1;33m\u001b[0m\u001b[0m\n\u001b[0;32m    341\u001b[0m                 \u001b[1;32mreturn\u001b[0m \u001b[1;32mTrue\u001b[0m\u001b[1;33m\u001b[0m\u001b[1;33m\u001b[0m\u001b[0m\n",
      "\u001b[1;32m~\\Anaconda3\\lib\\site-packages\\numpy\\core\\numeric.py\u001b[0m in \u001b[0;36masarray\u001b[1;34m(a, dtype, order)\u001b[0m\n\u001b[0;32m    536\u001b[0m \u001b[1;33m\u001b[0m\u001b[0m\n\u001b[0;32m    537\u001b[0m     \"\"\"\n\u001b[1;32m--> 538\u001b[1;33m     \u001b[1;32mreturn\u001b[0m \u001b[0marray\u001b[0m\u001b[1;33m(\u001b[0m\u001b[0ma\u001b[0m\u001b[1;33m,\u001b[0m \u001b[0mdtype\u001b[0m\u001b[1;33m,\u001b[0m \u001b[0mcopy\u001b[0m\u001b[1;33m=\u001b[0m\u001b[1;32mFalse\u001b[0m\u001b[1;33m,\u001b[0m \u001b[0morder\u001b[0m\u001b[1;33m=\u001b[0m\u001b[0morder\u001b[0m\u001b[1;33m)\u001b[0m\u001b[1;33m\u001b[0m\u001b[1;33m\u001b[0m\u001b[0m\n\u001b[0m\u001b[0;32m    539\u001b[0m \u001b[1;33m\u001b[0m\u001b[0m\n\u001b[0;32m    540\u001b[0m \u001b[1;33m\u001b[0m\u001b[0m\n",
      "\u001b[1;32m~\\Anaconda3\\lib\\site-packages\\pandas\\core\\series.py\u001b[0m in \u001b[0;36m__array__\u001b[1;34m(self, dtype)\u001b[0m\n\u001b[0;32m    946\u001b[0m             \u001b[0mwarnings\u001b[0m\u001b[1;33m.\u001b[0m\u001b[0mwarn\u001b[0m\u001b[1;33m(\u001b[0m\u001b[0mmsg\u001b[0m\u001b[1;33m,\u001b[0m \u001b[0mFutureWarning\u001b[0m\u001b[1;33m,\u001b[0m \u001b[0mstacklevel\u001b[0m\u001b[1;33m=\u001b[0m\u001b[1;36m3\u001b[0m\u001b[1;33m)\u001b[0m\u001b[1;33m\u001b[0m\u001b[1;33m\u001b[0m\u001b[0m\n\u001b[0;32m    947\u001b[0m             \u001b[0mdtype\u001b[0m \u001b[1;33m=\u001b[0m \u001b[1;34m\"M8[ns]\"\u001b[0m\u001b[1;33m\u001b[0m\u001b[1;33m\u001b[0m\u001b[0m\n\u001b[1;32m--> 948\u001b[1;33m         \u001b[1;32mreturn\u001b[0m \u001b[0mnp\u001b[0m\u001b[1;33m.\u001b[0m\u001b[0masarray\u001b[0m\u001b[1;33m(\u001b[0m\u001b[0mself\u001b[0m\u001b[1;33m.\u001b[0m\u001b[0marray\u001b[0m\u001b[1;33m,\u001b[0m \u001b[0mdtype\u001b[0m\u001b[1;33m)\u001b[0m\u001b[1;33m\u001b[0m\u001b[1;33m\u001b[0m\u001b[0m\n\u001b[0m\u001b[0;32m    949\u001b[0m \u001b[1;33m\u001b[0m\u001b[0m\n\u001b[0;32m    950\u001b[0m     \u001b[1;31m# ----------------------------------------------------------------------\u001b[0m\u001b[1;33m\u001b[0m\u001b[1;33m\u001b[0m\u001b[1;33m\u001b[0m\u001b[0m\n",
      "\u001b[1;32m~\\Anaconda3\\lib\\site-packages\\numpy\\core\\numeric.py\u001b[0m in \u001b[0;36masarray\u001b[1;34m(a, dtype, order)\u001b[0m\n\u001b[0;32m    536\u001b[0m \u001b[1;33m\u001b[0m\u001b[0m\n\u001b[0;32m    537\u001b[0m     \"\"\"\n\u001b[1;32m--> 538\u001b[1;33m     \u001b[1;32mreturn\u001b[0m \u001b[0marray\u001b[0m\u001b[1;33m(\u001b[0m\u001b[0ma\u001b[0m\u001b[1;33m,\u001b[0m \u001b[0mdtype\u001b[0m\u001b[1;33m,\u001b[0m \u001b[0mcopy\u001b[0m\u001b[1;33m=\u001b[0m\u001b[1;32mFalse\u001b[0m\u001b[1;33m,\u001b[0m \u001b[0morder\u001b[0m\u001b[1;33m=\u001b[0m\u001b[0morder\u001b[0m\u001b[1;33m)\u001b[0m\u001b[1;33m\u001b[0m\u001b[1;33m\u001b[0m\u001b[0m\n\u001b[0m\u001b[0;32m    539\u001b[0m \u001b[1;33m\u001b[0m\u001b[0m\n\u001b[0;32m    540\u001b[0m \u001b[1;33m\u001b[0m\u001b[0m\n",
      "\u001b[1;32m~\\Anaconda3\\lib\\site-packages\\pandas\\core\\arrays\\numpy_.py\u001b[0m in \u001b[0;36m__array__\u001b[1;34m(self, dtype)\u001b[0m\n\u001b[0;32m    164\u001b[0m \u001b[1;33m\u001b[0m\u001b[0m\n\u001b[0;32m    165\u001b[0m     \u001b[1;32mdef\u001b[0m \u001b[0m__array__\u001b[0m\u001b[1;33m(\u001b[0m\u001b[0mself\u001b[0m\u001b[1;33m,\u001b[0m \u001b[0mdtype\u001b[0m\u001b[1;33m=\u001b[0m\u001b[1;32mNone\u001b[0m\u001b[1;33m)\u001b[0m\u001b[1;33m:\u001b[0m\u001b[1;33m\u001b[0m\u001b[1;33m\u001b[0m\u001b[0m\n\u001b[1;32m--> 166\u001b[1;33m         \u001b[1;32mreturn\u001b[0m \u001b[0mnp\u001b[0m\u001b[1;33m.\u001b[0m\u001b[0masarray\u001b[0m\u001b[1;33m(\u001b[0m\u001b[0mself\u001b[0m\u001b[1;33m.\u001b[0m\u001b[0m_ndarray\u001b[0m\u001b[1;33m,\u001b[0m \u001b[0mdtype\u001b[0m\u001b[1;33m=\u001b[0m\u001b[0mdtype\u001b[0m\u001b[1;33m)\u001b[0m\u001b[1;33m\u001b[0m\u001b[1;33m\u001b[0m\u001b[0m\n\u001b[0m\u001b[0;32m    167\u001b[0m \u001b[1;33m\u001b[0m\u001b[0m\n\u001b[0;32m    168\u001b[0m     \u001b[0m_HANDLED_TYPES\u001b[0m \u001b[1;33m=\u001b[0m \u001b[1;33m(\u001b[0m\u001b[0mnp\u001b[0m\u001b[1;33m.\u001b[0m\u001b[0mndarray\u001b[0m\u001b[1;33m,\u001b[0m \u001b[0mnumbers\u001b[0m\u001b[1;33m.\u001b[0m\u001b[0mNumber\u001b[0m\u001b[1;33m)\u001b[0m\u001b[1;33m\u001b[0m\u001b[1;33m\u001b[0m\u001b[0m\n",
      "\u001b[1;32m~\\Anaconda3\\lib\\site-packages\\numpy\\core\\numeric.py\u001b[0m in \u001b[0;36masarray\u001b[1;34m(a, dtype, order)\u001b[0m\n\u001b[0;32m    536\u001b[0m \u001b[1;33m\u001b[0m\u001b[0m\n\u001b[0;32m    537\u001b[0m     \"\"\"\n\u001b[1;32m--> 538\u001b[1;33m     \u001b[1;32mreturn\u001b[0m \u001b[0marray\u001b[0m\u001b[1;33m(\u001b[0m\u001b[0ma\u001b[0m\u001b[1;33m,\u001b[0m \u001b[0mdtype\u001b[0m\u001b[1;33m,\u001b[0m \u001b[0mcopy\u001b[0m\u001b[1;33m=\u001b[0m\u001b[1;32mFalse\u001b[0m\u001b[1;33m,\u001b[0m \u001b[0morder\u001b[0m\u001b[1;33m=\u001b[0m\u001b[0morder\u001b[0m\u001b[1;33m)\u001b[0m\u001b[1;33m\u001b[0m\u001b[1;33m\u001b[0m\u001b[0m\n\u001b[0m\u001b[0;32m    539\u001b[0m \u001b[1;33m\u001b[0m\u001b[0m\n\u001b[0;32m    540\u001b[0m \u001b[1;33m\u001b[0m\u001b[0m\n",
      "\u001b[1;31mTypeError\u001b[0m: float() argument must be a string or a number, not 'property'"
     ]
    },
    {
     "data": {
      "image/png": "[encoded data removed]",
      "text/plain": [
       "<Figure size 1440x720 with 1 Axes>"
      ]
     },
     "metadata": {
      "needs_background": "light"
     },
     "output_type": "display_data"
    }
   ],
   "source": [
    "fig,ax=plt.subplots(figsize=(20,10))\n",
    "sns.barplot(x='importance', y='col', data=feature_imp)"
   ]
  },
  {
   "cell_type": "code",
   "execution_count": 131,
   "metadata": {},
   "outputs": [
    {
     "ename": "ValueError",
     "evalue": "shape mismatch: objects cannot be broadcast to a single shape",
     "output_type": "error",
     "traceback": [
      "\u001b[1;31m---------------------------------------------------------------------------\u001b[0m",
      "\u001b[1;31mValueError\u001b[0m                                Traceback (most recent call last)",
      "\u001b[1;32m<ipython-input-131-c03e12f94d90>\u001b[0m in \u001b[0;36m<module>\u001b[1;34m\u001b[0m\n\u001b[0;32m      5\u001b[0m \u001b[1;33m\u001b[0m\u001b[0m\n\u001b[0;32m      6\u001b[0m \u001b[0mplt\u001b[0m\u001b[1;33m.\u001b[0m\u001b[0msubplot\u001b[0m\u001b[1;33m(\u001b[0m\u001b[1;36m131\u001b[0m\u001b[1;33m)\u001b[0m\u001b[1;33m\u001b[0m\u001b[1;33m\u001b[0m\u001b[0m\n\u001b[1;32m----> 7\u001b[1;33m \u001b[0mplt\u001b[0m\u001b[1;33m.\u001b[0m\u001b[0mbar\u001b[0m\u001b[1;33m(\u001b[0m\u001b[0mnames\u001b[0m\u001b[1;33m,\u001b[0m \u001b[0mvalues\u001b[0m\u001b[1;33m)\u001b[0m\u001b[1;33m\u001b[0m\u001b[1;33m\u001b[0m\u001b[0m\n\u001b[0m\u001b[0;32m      8\u001b[0m \u001b[0mplt\u001b[0m\u001b[1;33m.\u001b[0m\u001b[0msubplot\u001b[0m\u001b[1;33m(\u001b[0m\u001b[1;36m132\u001b[0m\u001b[1;33m)\u001b[0m\u001b[1;33m\u001b[0m\u001b[1;33m\u001b[0m\u001b[0m\n\u001b[0;32m      9\u001b[0m \u001b[0mplt\u001b[0m\u001b[1;33m.\u001b[0m\u001b[0mscatter\u001b[0m\u001b[1;33m(\u001b[0m\u001b[0mnames\u001b[0m\u001b[1;33m,\u001b[0m \u001b[0mvalues\u001b[0m\u001b[1;33m)\u001b[0m\u001b[1;33m\u001b[0m\u001b[1;33m\u001b[0m\u001b[0m\n",
      "\u001b[1;32m~\\Anaconda3\\lib\\site-packages\\matplotlib\\pyplot.py\u001b[0m in \u001b[0;36mbar\u001b[1;34m(x, height, width, bottom, align, data, **kwargs)\u001b[0m\n\u001b[0;32m   2438\u001b[0m     return gca().bar(\n\u001b[0;32m   2439\u001b[0m         \u001b[0mx\u001b[0m\u001b[1;33m,\u001b[0m \u001b[0mheight\u001b[0m\u001b[1;33m,\u001b[0m \u001b[0mwidth\u001b[0m\u001b[1;33m=\u001b[0m\u001b[0mwidth\u001b[0m\u001b[1;33m,\u001b[0m \u001b[0mbottom\u001b[0m\u001b[1;33m=\u001b[0m\u001b[0mbottom\u001b[0m\u001b[1;33m,\u001b[0m \u001b[0malign\u001b[0m\u001b[1;33m=\u001b[0m\u001b[0malign\u001b[0m\u001b[1;33m,\u001b[0m\u001b[1;33m\u001b[0m\u001b[1;33m\u001b[0m\u001b[0m\n\u001b[1;32m-> 2440\u001b[1;33m         **({\"data\": data} if data is not None else {}), **kwargs)\n\u001b[0m\u001b[0;32m   2441\u001b[0m \u001b[1;33m\u001b[0m\u001b[0m\n\u001b[0;32m   2442\u001b[0m \u001b[1;33m\u001b[0m\u001b[0m\n",
      "\u001b[1;32m~\\Anaconda3\\lib\\site-packages\\matplotlib\\__init__.py\u001b[0m in \u001b[0;36minner\u001b[1;34m(ax, data, *args, **kwargs)\u001b[0m\n\u001b[0;32m   1599\u001b[0m     \u001b[1;32mdef\u001b[0m \u001b[0minner\u001b[0m\u001b[1;33m(\u001b[0m\u001b[0max\u001b[0m\u001b[1;33m,\u001b[0m \u001b[1;33m*\u001b[0m\u001b[0margs\u001b[0m\u001b[1;33m,\u001b[0m \u001b[0mdata\u001b[0m\u001b[1;33m=\u001b[0m\u001b[1;32mNone\u001b[0m\u001b[1;33m,\u001b[0m \u001b[1;33m**\u001b[0m\u001b[0mkwargs\u001b[0m\u001b[1;33m)\u001b[0m\u001b[1;33m:\u001b[0m\u001b[1;33m\u001b[0m\u001b[1;33m\u001b[0m\u001b[0m\n\u001b[0;32m   1600\u001b[0m         \u001b[1;32mif\u001b[0m \u001b[0mdata\u001b[0m \u001b[1;32mis\u001b[0m \u001b[1;32mNone\u001b[0m\u001b[1;33m:\u001b[0m\u001b[1;33m\u001b[0m\u001b[1;33m\u001b[0m\u001b[0m\n\u001b[1;32m-> 1601\u001b[1;33m             \u001b[1;32mreturn\u001b[0m \u001b[0mfunc\u001b[0m\u001b[1;33m(\u001b[0m\u001b[0max\u001b[0m\u001b[1;33m,\u001b[0m \u001b[1;33m*\u001b[0m\u001b[0mmap\u001b[0m\u001b[1;33m(\u001b[0m\u001b[0msanitize_sequence\u001b[0m\u001b[1;33m,\u001b[0m \u001b[0margs\u001b[0m\u001b[1;33m)\u001b[0m\u001b[1;33m,\u001b[0m \u001b[1;33m**\u001b[0m\u001b[0mkwargs\u001b[0m\u001b[1;33m)\u001b[0m\u001b[1;33m\u001b[0m\u001b[1;33m\u001b[0m\u001b[0m\n\u001b[0m\u001b[0;32m   1602\u001b[0m \u001b[1;33m\u001b[0m\u001b[0m\n\u001b[0;32m   1603\u001b[0m         \u001b[0mbound\u001b[0m \u001b[1;33m=\u001b[0m \u001b[0mnew_sig\u001b[0m\u001b[1;33m.\u001b[0m\u001b[0mbind\u001b[0m\u001b[1;33m(\u001b[0m\u001b[0max\u001b[0m\u001b[1;33m,\u001b[0m \u001b[1;33m*\u001b[0m\u001b[0margs\u001b[0m\u001b[1;33m,\u001b[0m \u001b[1;33m**\u001b[0m\u001b[0mkwargs\u001b[0m\u001b[1;33m)\u001b[0m\u001b[1;33m\u001b[0m\u001b[1;33m\u001b[0m\u001b[0m\n",
      "\u001b[1;32m~\\Anaconda3\\lib\\site-packages\\matplotlib\\axes\\_axes.py\u001b[0m in \u001b[0;36mbar\u001b[1;34m(self, x, height, width, bottom, align, **kwargs)\u001b[0m\n\u001b[0;32m   2373\u001b[0m         x, height, width, y, linewidth = np.broadcast_arrays(\n\u001b[0;32m   2374\u001b[0m             \u001b[1;31m# Make args iterable too.\u001b[0m\u001b[1;33m\u001b[0m\u001b[1;33m\u001b[0m\u001b[1;33m\u001b[0m\u001b[0m\n\u001b[1;32m-> 2375\u001b[1;33m             np.atleast_1d(x), height, width, y, linewidth)\n\u001b[0m\u001b[0;32m   2376\u001b[0m \u001b[1;33m\u001b[0m\u001b[0m\n\u001b[0;32m   2377\u001b[0m         \u001b[1;31m# Now that units have been converted, set the tick locations.\u001b[0m\u001b[1;33m\u001b[0m\u001b[1;33m\u001b[0m\u001b[1;33m\u001b[0m\u001b[0m\n",
      "\u001b[1;32m~\\Anaconda3\\lib\\site-packages\\numpy\\lib\\stride_tricks.py\u001b[0m in \u001b[0;36mbroadcast_arrays\u001b[1;34m(*args, **kwargs)\u001b[0m\n\u001b[0;32m    257\u001b[0m     \u001b[0margs\u001b[0m \u001b[1;33m=\u001b[0m \u001b[1;33m[\u001b[0m\u001b[0mnp\u001b[0m\u001b[1;33m.\u001b[0m\u001b[0marray\u001b[0m\u001b[1;33m(\u001b[0m\u001b[0m_m\u001b[0m\u001b[1;33m,\u001b[0m \u001b[0mcopy\u001b[0m\u001b[1;33m=\u001b[0m\u001b[1;32mFalse\u001b[0m\u001b[1;33m,\u001b[0m \u001b[0msubok\u001b[0m\u001b[1;33m=\u001b[0m\u001b[0msubok\u001b[0m\u001b[1;33m)\u001b[0m \u001b[1;32mfor\u001b[0m \u001b[0m_m\u001b[0m \u001b[1;32min\u001b[0m \u001b[0margs\u001b[0m\u001b[1;33m]\u001b[0m\u001b[1;33m\u001b[0m\u001b[1;33m\u001b[0m\u001b[0m\n\u001b[0;32m    258\u001b[0m \u001b[1;33m\u001b[0m\u001b[0m\n\u001b[1;32m--> 259\u001b[1;33m     \u001b[0mshape\u001b[0m \u001b[1;33m=\u001b[0m \u001b[0m_broadcast_shape\u001b[0m\u001b[1;33m(\u001b[0m\u001b[1;33m*\u001b[0m\u001b[0margs\u001b[0m\u001b[1;33m)\u001b[0m\u001b[1;33m\u001b[0m\u001b[1;33m\u001b[0m\u001b[0m\n\u001b[0m\u001b[0;32m    260\u001b[0m \u001b[1;33m\u001b[0m\u001b[0m\n\u001b[0;32m    261\u001b[0m     \u001b[1;32mif\u001b[0m \u001b[0mall\u001b[0m\u001b[1;33m(\u001b[0m\u001b[0marray\u001b[0m\u001b[1;33m.\u001b[0m\u001b[0mshape\u001b[0m \u001b[1;33m==\u001b[0m \u001b[0mshape\u001b[0m \u001b[1;32mfor\u001b[0m \u001b[0marray\u001b[0m \u001b[1;32min\u001b[0m \u001b[0margs\u001b[0m\u001b[1;33m)\u001b[0m\u001b[1;33m:\u001b[0m\u001b[1;33m\u001b[0m\u001b[1;33m\u001b[0m\u001b[0m\n",
      "\u001b[1;32m~\\Anaconda3\\lib\\site-packages\\numpy\\lib\\stride_tricks.py\u001b[0m in \u001b[0;36m_broadcast_shape\u001b[1;34m(*args)\u001b[0m\n\u001b[0;32m    191\u001b[0m     \u001b[1;31m# use the old-iterator because np.nditer does not handle size 0 arrays\u001b[0m\u001b[1;33m\u001b[0m\u001b[1;33m\u001b[0m\u001b[1;33m\u001b[0m\u001b[0m\n\u001b[0;32m    192\u001b[0m     \u001b[1;31m# consistently\u001b[0m\u001b[1;33m\u001b[0m\u001b[1;33m\u001b[0m\u001b[1;33m\u001b[0m\u001b[0m\n\u001b[1;32m--> 193\u001b[1;33m     \u001b[0mb\u001b[0m \u001b[1;33m=\u001b[0m \u001b[0mnp\u001b[0m\u001b[1;33m.\u001b[0m\u001b[0mbroadcast\u001b[0m\u001b[1;33m(\u001b[0m\u001b[1;33m*\u001b[0m\u001b[0margs\u001b[0m\u001b[1;33m[\u001b[0m\u001b[1;33m:\u001b[0m\u001b[1;36m32\u001b[0m\u001b[1;33m]\u001b[0m\u001b[1;33m)\u001b[0m\u001b[1;33m\u001b[0m\u001b[1;33m\u001b[0m\u001b[0m\n\u001b[0m\u001b[0;32m    194\u001b[0m     \u001b[1;31m# unfortunately, it cannot handle 32 or more arguments directly\u001b[0m\u001b[1;33m\u001b[0m\u001b[1;33m\u001b[0m\u001b[1;33m\u001b[0m\u001b[0m\n\u001b[0;32m    195\u001b[0m     \u001b[1;32mfor\u001b[0m \u001b[0mpos\u001b[0m \u001b[1;32min\u001b[0m \u001b[0mrange\u001b[0m\u001b[1;33m(\u001b[0m\u001b[1;36m32\u001b[0m\u001b[1;33m,\u001b[0m \u001b[0mlen\u001b[0m\u001b[1;33m(\u001b[0m\u001b[0margs\u001b[0m\u001b[1;33m)\u001b[0m\u001b[1;33m,\u001b[0m \u001b[1;36m31\u001b[0m\u001b[1;33m)\u001b[0m\u001b[1;33m:\u001b[0m\u001b[1;33m\u001b[0m\u001b[1;33m\u001b[0m\u001b[0m\n",
      "\u001b[1;31mValueError\u001b[0m: shape mismatch: objects cannot be broadcast to a single shape"
     ]
    },
    {
     "data": {
      "image/png": "[encoded data removed]",
      "text/plain": [
       "<Figure size 216x216 with 1 Axes>"
      ]
     },
     "metadata": {
      "needs_background": "light"
     },
     "output_type": "display_data"
    }
   ],
   "source": [
    "names = df.columns\n",
    "values = features\n",
    "\n",
    "plt.figure(figsize=(9, 3))\n",
    "\n",
    "plt.subplot(131)\n",
    "plt.bar(names, values)\n",
    "plt.subplot(132)\n",
    "plt.scatter(names, values)\n",
    "plt.subplot(133)\n",
    "plt.plot(names, values)\n",
    "plt.suptitle('Categorical Plotting')\n",
    "plt.show()"
   ]
  },
  {
   "cell_type": "code",
   "execution_count": 48,
   "metadata": {},
   "outputs": [
    {
     "name": "stdout",
     "output_type": "stream",
     "text": [
      "fitting :\n",
      "ExtraTreesRegressor(bootstrap=False, criterion='mse', max_depth=None,\n",
      "                    max_features='auto', max_leaf_nodes=None,\n",
      "                    min_impurity_decrease=0.0, min_impurity_split=None,\n",
      "                    min_samples_leaf=1, min_samples_split=2,\n",
      "                    min_weight_fraction_leaf=0.0, n_estimators='warn',\n",
      "                    n_jobs=None, oob_score=False, random_state=None, verbose=0,\n",
      "                    warm_start=False)\n",
      "X_train:(8000, 39) , X_test:(2000, 39) ,  y_train:(8000,) ,  y_test:(2000,)\n"
     ]
    },
    {
     "name": "stderr",
     "output_type": "stream",
     "text": [
      "C:\\Users\\Guillaume\\Anaconda3\\lib\\site-packages\\sklearn\\ensemble\\forest.py:245: FutureWarning: The default value of n_estimators will change from 10 in version 0.20 to 100 in 0.22.\n",
      "  \"10 in version 0.20 to 100 in 0.22.\", FutureWarning)\n"
     ]
    },
    {
     "data": {
      "text/plain": [
       "0.8558286315308093"
      ]
     },
     "execution_count": 48,
     "metadata": {},
     "output_type": "execute_result"
    },
    {
     "data": {
      "image/png": "[encoded data removed]",
      "text/plain": [
       "<Figure size 432x288 with 1 Axes>"
      ]
     },
     "metadata": {
      "needs_background": "light"
     },
     "output_type": "display_data"
    }
   ],
   "source": [
    "get_score(ExtraTreesRegressor(), X_train, X_test, Y_train, Y_test, True)"
   ]
  },
  {
   "cell_type": "code",
   "execution_count": 49,
   "metadata": {},
   "outputs": [
    {
     "name": "stderr",
     "output_type": "stream",
     "text": [
      "C:\\Users\\Guillaume\\Anaconda3\\lib\\site-packages\\sklearn\\ensemble\\forest.py:245: FutureWarning: The default value of n_estimators will change from 10 in version 0.20 to 100 in 0.22.\n",
      "  \"10 in version 0.20 to 100 in 0.22.\", FutureWarning)\n",
      "C:\\Users\\Guillaume\\Anaconda3\\lib\\site-packages\\sklearn\\ensemble\\forest.py:245: FutureWarning: The default value of n_estimators will change from 10 in version 0.20 to 100 in 0.22.\n",
      "  \"10 in version 0.20 to 100 in 0.22.\", FutureWarning)\n",
      "C:\\Users\\Guillaume\\Anaconda3\\lib\\site-packages\\sklearn\\ensemble\\forest.py:245: FutureWarning: The default value of n_estimators will change from 10 in version 0.20 to 100 in 0.22.\n",
      "  \"10 in version 0.20 to 100 in 0.22.\", FutureWarning)\n",
      "C:\\Users\\Guillaume\\Anaconda3\\lib\\site-packages\\sklearn\\ensemble\\forest.py:245: FutureWarning: The default value of n_estimators will change from 10 in version 0.20 to 100 in 0.22.\n",
      "  \"10 in version 0.20 to 100 in 0.22.\", FutureWarning)\n"
     ]
    }
   ],
   "source": [
    "performances = []\n",
    "listmse = []\n",
    "algorithmes = [LinearRegression, DecisionTreeRegressor, RandomForestRegressor, ExtraTreesRegressor]\n",
    "for algo in algorithmes:\n",
    "    performances.append(get_score(algo(), X_train, X_test, Y_train, Y_test, display_options = False))\n",
    "    listmse.append(get_mse(algo(), X_train, X_test, Y_train, Y_test))"
   ]
  },
  {
   "cell_type": "code",
   "execution_count": 50,
   "metadata": {},
   "outputs": [
    {
     "data": {
      "text/plain": [
       "[0.5777861206407795,\n",
       " 0.7535120603256729,\n",
       " 0.8653764220382185,\n",
       " 0.8731521564934626]"
      ]
     },
     "execution_count": 50,
     "metadata": {},
     "output_type": "execute_result"
    }
   ],
   "source": [
    "performances"
   ]
  },
  {
   "cell_type": "code",
   "execution_count": 51,
   "metadata": {},
   "outputs": [
    {
     "data": {
      "text/plain": [
       "[4378375705867.5054, 2775569526104.763, 924342847110.4128, 1465396249787.049]"
      ]
     },
     "execution_count": 51,
     "metadata": {},
     "output_type": "execute_result"
    }
   ],
   "source": [
    "listmse"
   ]
  },
  {
   "cell_type": "code",
   "execution_count": 52,
   "metadata": {},
   "outputs": [
    {
     "data": {
      "image/png": "[encoded data removed]",
      "text/plain": [
       "<Figure size 432x288 with 1 Axes>"
      ]
     },
     "metadata": {
      "needs_background": "light"
     },
     "output_type": "display_data"
    }
   ],
   "source": [
    "D = {'LinearRegression':performances[0], u'DecisionTree': performances[1], u'RandomForest':performances[2], u'ExtraTrees':performances[3]}\n",
    "\n",
    "plt.bar(range(len(D)), D.values(), align='center')\n",
    "plt.xticks(range(len(D)), list(D.keys()))\n",
    "plt.ylabel('score')\n",
    "plt.xlabel('Algorithm')\n",
    "plt.show()"
   ]
  },
  {
   "cell_type": "code",
   "execution_count": 53,
   "metadata": {},
   "outputs": [
    {
     "data": {
      "image/png": "[encoded data removed]",
      "text/plain": [
       "<Figure size 432x288 with 1 Axes>"
      ]
     },
     "metadata": {
      "needs_background": "light"
     },
     "output_type": "display_data"
    }
   ],
   "source": [
    "D = {'LinearRegression':listmse[0], u'DecisionTree': listmse[1], u'RandomForest':listmse[2], u'ExtraTrees':listmse[3]}\n",
    "\n",
    "plt.bar(range(len(D)), D.values(), align='center')\n",
    "plt.xticks(range(len(D)), list(D.keys()))\n",
    "plt.ylabel('mse')\n",
    "plt.xlabel('Algorithm')\n",
    "plt.show()"
   ]
  },
  {
   "cell_type": "code",
   "execution_count": 54,
   "metadata": {},
   "outputs": [
    {
     "name": "stdout",
     "output_type": "stream",
     "text": [
      "0.6203678409662583\n",
      "0.8566922128523333\n",
      "0.8724949562170202\n",
      "0.9055902333464181\n",
      "0.8659190871106583\n",
      "0.8795752944852149\n",
      "0.9052560089704946\n",
      "0.8969486483230299\n",
      "0.9026366497126903\n",
      "0.8823923508234365\n"
     ]
    }
   ],
   "source": [
    "score= []\n",
    "for i in range(1,20, 2):\n",
    "    TestRF = RandomForestRegressor(n_estimators=i)\n",
    "    score.append(get_score(TestRF, X_train, X_test, Y_train, Y_test, display_options=False))\n",
    "    print(get_score(TestRF, X_train, X_test, Y_train, Y_test, display_options=False))"
   ]
  },
  {
   "cell_type": "code",
   "execution_count": 55,
   "metadata": {},
   "outputs": [
    {
     "data": {
      "text/plain": [
       "[0.7111814707772899,\n",
       " 0.8837182781048515,\n",
       " 0.8607442883230454,\n",
       " 0.8648664345800312,\n",
       " 0.889475886139788,\n",
       " 0.8914716255175756,\n",
       " 0.883650283199189,\n",
       " 0.8967096513193367,\n",
       " 0.9056095438059345,\n",
       " 0.8989201821897663]"
      ]
     },
     "execution_count": 55,
     "metadata": {},
     "output_type": "execute_result"
    }
   ],
   "source": [
    "score"
   ]
  },
  {
   "cell_type": "code",
   "execution_count": 56,
   "metadata": {},
   "outputs": [
    {
     "data": {
      "image/png": "[encoded data removed]",
      "text/plain": [
       "<Figure size 432x288 with 1 Axes>"
      ]
     },
     "metadata": {
      "needs_background": "light"
     },
     "output_type": "display_data"
    }
   ],
   "source": [
    "plt.plot(score, range(1,20, 2))\n",
    "plt.ylabel('some numbers')\n",
    "plt.show()"
   ]
  },
  {
   "cell_type": "code",
   "execution_count": 57,
   "metadata": {},
   "outputs": [],
   "source": [
    "gridParam = {\n",
    "    'C'     : [0.5, 1, 1.5],\n",
    "    'gamma' :[0.5, 0.1, 0.15]\n",
    "}"
   ]
  },
  {
   "cell_type": "code",
   "execution_count": 58,
   "metadata": {},
   "outputs": [],
   "source": [
    "grid = GridSearchCV(estimator=svm.SVR(), \n",
    "                                param_grid=gridParam, \n",
    "                                n_jobs=-1, cv=10, verbose=2)"
   ]
  },
  {
   "cell_type": "code",
   "execution_count": 59,
   "metadata": {},
   "outputs": [
    {
     "name": "stdout",
     "output_type": "stream",
     "text": [
      "Fitting 10 folds for each of 9 candidates, totalling 90 fits\n"
     ]
    },
    {
     "name": "stderr",
     "output_type": "stream",
     "text": [
      "[Parallel(n_jobs=-1)]: Using backend LokyBackend with 4 concurrent workers.\n",
      "[Parallel(n_jobs=-1)]: Done  33 tasks      | elapsed:   48.4s\n",
      "[Parallel(n_jobs=-1)]: Done  90 out of  90 | elapsed:  3.5min finished\n"
     ]
    },
    {
     "data": {
      "text/plain": [
       "GridSearchCV(cv=10, error_score='raise-deprecating',\n",
       "             estimator=SVR(C=1.0, cache_size=200, coef0=0.0, degree=3,\n",
       "                           epsilon=0.1, gamma='auto_deprecated', kernel='rbf',\n",
       "                           max_iter=-1, shrinking=True, tol=0.001,\n",
       "                           verbose=False),\n",
       "             iid='warn', n_jobs=-1,\n",
       "             param_grid={'C': [0.5, 1, 1.5], 'gamma': [0.5, 0.1, 0.15]},\n",
       "             pre_dispatch='2*n_jobs', refit=True, return_train_score=False,\n",
       "             scoring=None, verbose=2)"
      ]
     },
     "execution_count": 59,
     "metadata": {},
     "output_type": "execute_result"
    }
   ],
   "source": [
    "grid.fit(X_train, Y_train)"
   ]
  },
  {
   "cell_type": "code",
   "execution_count": 60,
   "metadata": {},
   "outputs": [
    {
     "data": {
      "text/plain": [
       "GridSearchCV(cv=10, error_score='raise-deprecating',\n",
       "             estimator=SVR(C=1.0, cache_size=200, coef0=0.0, degree=3,\n",
       "                           epsilon=0.1, gamma='auto_deprecated', kernel='rbf',\n",
       "                           max_iter=-1, shrinking=True, tol=0.001,\n",
       "                           verbose=False),\n",
       "             iid='warn', n_jobs=-1,\n",
       "             param_grid={'C': [0.5, 1, 1.5], 'gamma': [0.5, 0.1, 0.15]},\n",
       "             pre_dispatch='2*n_jobs', refit=True, return_train_score=False,\n",
       "             scoring=None, verbose=2)"
      ]
     },
     "execution_count": 60,
     "metadata": {},
     "output_type": "execute_result"
    }
   ],
   "source": [
    "grid"
   ]
  },
  {
   "cell_type": "code",
   "execution_count": 61,
   "metadata": {},
   "outputs": [],
   "source": [
    "gridParam = {\n",
    "    'n_estimators'     : range(1,20, 2),\n",
    "}"
   ]
  },
  {
   "cell_type": "code",
   "execution_count": 62,
   "metadata": {},
   "outputs": [],
   "source": [
    "grid = GridSearchCV(estimator=RandomForestRegressor(), \n",
    "                                param_grid=gridParam, \n",
    "                                n_jobs=-1, cv=10, verbose=2)"
   ]
  },
  {
   "cell_type": "code",
   "execution_count": 75,
   "metadata": {},
   "outputs": [],
   "source": [
    "param_grid = { \n",
    "    'n_estimators': [10, 20],\n",
    "    'max_depth' : range(1,200,20)\n",
    "}"
   ]
  },
  {
   "cell_type": "code",
   "execution_count": 89,
   "metadata": {},
   "outputs": [],
   "source": [
    "def rfr_model(X, y):\n",
    "    #Grid-Search\n",
    "    gsc = GridSearchCV(\n",
    "        estimator=RandomForestRegressor(),\n",
    "        param_grid={\n",
    "            'max_depth': range(1,100,10),\n",
    "            'n_estimators': (1,20),\n",
    "        },\n",
    "        cv=5, verbose=0, n_jobs=-1)\n",
    "    \n",
    "    grid_result = gsc.fit(X, y)\n",
    "    best_params = grid_result.best_params_\n",
    "    \n",
    "    rfr = RandomForestRegressor(max_depth=best_params[\"max_depth\"], n_estimators=best_params[\"n_estimators\"],                               random_state=False, verbose=False)\n",
    "    #K-Fold CV\n",
    "    scores = cross_val_score(rfr, X, y, cv=10)\n",
    "\n",
    "    return scores"
   ]
  },
  {
   "cell_type": "code",
   "execution_count": 91,
   "metadata": {},
   "outputs": [],
   "source": [
    "rfr_scores = rfr_model(X_train, Y_train)"
   ]
  },
  {
   "cell_type": "code",
   "execution_count": 92,
   "metadata": {},
   "outputs": [
    {
     "data": {
      "text/plain": [
       "array([0.87922145, 0.9282974 , 0.9005049 , 0.88696667, 0.91427587,\n",
       "       0.8847695 , 0.84500942, 0.87481777, 0.69092315, 0.92759615])"
      ]
     },
     "metadata": {},
     "output_type": "display_data"
    },
    {
     "data": {
      "text/plain": [
       "0.8732382294403168"
      ]
     },
     "metadata": {},
     "output_type": "display_data"
    },
    {
     "data": {
      "text/plain": [
       "0.06542877166426588"
      ]
     },
     "metadata": {},
     "output_type": "display_data"
    }
   ],
   "source": [
    "display(rfr_scores, rfr_scores.mean(), rfr_scores.std())"
   ]
  },
  {
   "cell_type": "code",
   "execution_count": 78,
   "metadata": {},
   "outputs": [
    {
     "data": {
      "text/plain": [
       "0.867733330885549"
      ]
     },
     "execution_count": 78,
     "metadata": {},
     "output_type": "execute_result"
    }
   ],
   "source": [
    "CV_rfc.best_score_"
   ]
  }
 ],
 "metadata": {
  "kernelspec": {
   "display_name": "Python 3",
   "language": "python",
   "name": "python3"
  },
  "language_info": {
   "codemirror_mode": {
    "name": "ipython",
    "version": 3
   },
   "file_extension": ".py",
   "mimetype": "text/x-python",
   "name": "python",
   "nbconvert_exporter": "python",
   "pygments_lexer": "ipython3",
   "version": "3.7.3"
  }
 },
 "nbformat": 4,
 "nbformat_minor": 2
}
