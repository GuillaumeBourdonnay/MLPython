{
 "cells": [
  {
   "cell_type": "code",
   "execution_count": 1,
   "metadata": {},
   "outputs": [],
   "source": [
    "import pandas as pd\n",
    "import datetime\n",
    "from datetime import datetime, date\n",
    "import numpy as np\n",
    "%matplotlib inline\n",
    "import matplotlib.pyplot as plt"
   ]
  },
  {
   "cell_type": "code",
   "execution_count": 2,
   "metadata": {},
   "outputs": [
    {
     "data": {
      "text/plain": [
       "(10000, 36)"
      ]
     },
     "execution_count": 2,
     "metadata": {},
     "output_type": "execute_result"
    }
   ],
   "source": [
    "df = pd.read_csv(\"incident_event_log.csv\", sep=',', encoding='UTF-8')\n",
    "df = df.iloc[0:10000]\n",
    "df.shape"
   ]
  },
  {
   "cell_type": "code",
   "execution_count": 3,
   "metadata": {},
   "outputs": [
    {
     "name": "stdout",
     "output_type": "stream",
     "text": [
      "INC0002129    36\n",
      "INC0000990    28\n",
      "INC0001471    26\n",
      "INC0000820    26\n",
      "INC0001451    26\n",
      "              ..\n",
      "INC0001927     2\n",
      "INC0000269     2\n",
      "INC0000604     2\n",
      "INC0001119     2\n",
      "INC0000587     2\n",
      "Name: number, Length: 1446, dtype: int64\n",
      "\n",
      "\n",
      "New                   2782\n",
      "Active                2548\n",
      "Awaiting User Info    1552\n",
      "Resolved              1522\n",
      "Closed                1454\n",
      "Awaiting Problem       116\n",
      "Awaiting Vendor         23\n",
      "Awaiting Evidence        3\n",
      "Name: incident_state, dtype: int64\n",
      "\n",
      "\n",
      "True     8546\n",
      "False    1454\n",
      "Name: active, dtype: int64\n",
      "\n",
      "\n",
      "0     5013\n",
      "1     2309\n",
      "2     1165\n",
      "3      578\n",
      "4      319\n",
      "5      209\n",
      "6      150\n",
      "7       98\n",
      "8       59\n",
      "9       40\n",
      "10      31\n",
      "14       8\n",
      "12       7\n",
      "11       6\n",
      "18       3\n",
      "13       2\n",
      "17       1\n",
      "16       1\n",
      "15       1\n",
      "Name: reassignment_count, dtype: int64\n",
      "\n",
      "\n",
      "0    9829\n",
      "1     131\n",
      "3      18\n",
      "2      15\n",
      "4       7\n",
      "Name: reopen_count, dtype: int64\n",
      "\n",
      "\n",
      "0      1441\n",
      "1      1211\n",
      "2      1145\n",
      "3       969\n",
      "4       788\n",
      "       ... \n",
      "106       1\n",
      "90        1\n",
      "50        1\n",
      "129       1\n",
      "83        1\n",
      "Name: sys_mod_count, Length: 95, dtype: int64\n",
      "\n",
      "\n",
      "True     9264\n",
      "False     736\n",
      "Name: made_sla, dtype: int64\n",
      "\n",
      "\n",
      "Caller 4414    77\n",
      "Caller 4180    64\n",
      "Caller 369     59\n",
      "Caller 3479    57\n",
      "Caller 1683    53\n",
      "               ..\n",
      "Caller 4758     2\n",
      "Caller 4415     2\n",
      "Caller 760      2\n",
      "Caller 4432     2\n",
      "Caller 586      2\n",
      "Name: caller_id, Length: 949, dtype: int64\n",
      "\n",
      "\n",
      "?                 1377\n",
      "Opened by  180     871\n",
      "Opened by  131     799\n",
      "Opened by  40      676\n",
      "Opened by  301     534\n",
      "                  ... \n",
      "Opened by  517       4\n",
      "Opened by  317       4\n",
      "Opened by  356       4\n",
      "Opened by  368       3\n",
      "Opened by  385       2\n",
      "Name: opened_by, Length: 73, dtype: int64\n",
      "\n",
      "\n",
      "2/3/2016 16:10     41\n",
      "1/3/2016 09:36     37\n",
      "3/3/2016 17:10     36\n",
      "3/3/2016 13:43     36\n",
      "2/3/2016 12:33     34\n",
      "                   ..\n",
      "3/3/2016 17:59      2\n",
      "3/3/2016 18:44      2\n",
      "29/2/2016 13:59     2\n",
      "29/2/2016 14:45     2\n",
      "2/3/2016 17:40      2\n",
      "Name: opened_at, Length: 1165, dtype: int64\n",
      "\n",
      "\n",
      "?                 2739\n",
      "Created by 81      627\n",
      "Created by 89      619\n",
      "Created by 62      608\n",
      "Created by 20      516\n",
      "                  ... \n",
      "Created by 82        5\n",
      "Created by 225       4\n",
      "Created by 137       4\n",
      "Created by 163       4\n",
      "Created by 166       2\n",
      "Name: sys_created_by, Length: 70, dtype: int64\n",
      "\n",
      "\n",
      "?                  2739\n",
      "3/3/2016 16:23       41\n",
      "3/3/2016 16:47       36\n",
      "3/3/2016 17:16       36\n",
      "29/2/2016 09:13      34\n",
      "                   ... \n",
      "3/3/2016 11:03        3\n",
      "3/3/2016 14:26        3\n",
      "3/3/2016 11:56        3\n",
      "4/3/2016 08:33        3\n",
      "2/3/2016 17:43        2\n",
      "Name: sys_created_at, Length: 837, dtype: int64\n",
      "\n",
      "\n",
      "Updated by 908    1890\n",
      "Updated by 429     298\n",
      "Updated by 60      216\n",
      "Updated by 340     214\n",
      "Updated by 44      196\n",
      "                  ... \n",
      "Updated by 211       1\n",
      "Updated by 774       1\n",
      "Updated by 359       1\n",
      "Updated by 127       1\n",
      "Updated by 961       1\n",
      "Name: sys_updated_by, Length: 191, dtype: int64\n",
      "\n",
      "\n",
      "24/3/2016 18:40    186\n",
      "24/3/2016 18:59    127\n",
      "24/3/2016 18:50     91\n",
      "8/3/2016 10:00      34\n",
      "8/3/2016 16:00      30\n",
      "                  ... \n",
      "8/3/2016 13:14       1\n",
      "17/3/2016 16:16      1\n",
      "11/3/2016 08:36      1\n",
      "21/3/2016 10:51      1\n",
      "30/4/2016 10:07      1\n",
      "Name: sys_updated_at, Length: 5327, dtype: int64\n",
      "\n",
      "\n",
      "Phone    10000\n",
      "Name: contact_type, dtype: int64\n",
      "\n",
      "\n",
      "Location 204    2335\n",
      "Location 143    1508\n",
      "Location 161    1153\n",
      "Location 93     1083\n",
      "Location 108     790\n",
      "                ... \n",
      "Location 196       4\n",
      "Location 141       3\n",
      "Location 72        3\n",
      "Location 99        3\n",
      "Location 247       2\n",
      "Name: location, Length: 98, dtype: int64\n",
      "\n",
      "\n",
      "Category 45    1781\n",
      "Category 53    1669\n",
      "Category 26    1001\n",
      "Category 32     697\n",
      "Category 42     570\n",
      "Category 9      552\n",
      "Category 37     511\n",
      "Category 24     406\n",
      "Category 23     399\n",
      "Category 20     362\n",
      "Category 55     328\n",
      "Category 61     308\n",
      "Category 34     270\n",
      "Category 44     192\n",
      "Category 46     162\n",
      "Category 40     156\n",
      "Category 51     117\n",
      "Category 19     109\n",
      "Category 22      69\n",
      "Category 35      65\n",
      "?                53\n",
      "Category 43      43\n",
      "Category 8       33\n",
      "Category 13      32\n",
      "Category 17      25\n",
      "Category 57      20\n",
      "Category 63      18\n",
      "Category 7       15\n",
      "Category 62       9\n",
      "Category 30       6\n",
      "Category 31       4\n",
      "Category 38       4\n",
      "Category 56       3\n",
      "Category 15       3\n",
      "Category 47       3\n",
      "Category 4        2\n",
      "Category 49       2\n",
      "Category 25       1\n",
      "Name: category, dtype: int64\n",
      "\n",
      "\n",
      "Subcategory 164    1262\n",
      "Subcategory 175     711\n",
      "Subcategory 9       697\n",
      "Subcategory 135     386\n",
      "Subcategory 303     359\n",
      "                   ... \n",
      "Subcategory 276       1\n",
      "Subcategory 11        1\n",
      "Subcategory 179       1\n",
      "Subcategory 167       1\n",
      "Subcategory 65        1\n",
      "Name: subcategory, Length: 135, dtype: int64\n",
      "\n",
      "\n",
      "?              3112\n",
      "Symptom 4      1461\n",
      "Symptom 470     615\n",
      "Symptom 208     526\n",
      "Symptom 387     458\n",
      "               ... \n",
      "Symptom 80        1\n",
      "Symptom 142       1\n",
      "Symptom 155       1\n",
      "Symptom 415       1\n",
      "Symptom 184       1\n",
      "Name: u_symptom, Length: 176, dtype: int64\n",
      "\n",
      "\n",
      "?             9882\n",
      "cmdb_ci 31      32\n",
      "cmdb_ci 23      14\n",
      "cmdb_ci 14      12\n",
      "cmdb_ci 6       10\n",
      "cmdb_ci 3        9\n",
      "cmdb_ci 48       9\n",
      "cmdb_ci 49       8\n",
      "cmdb_ci 22       8\n",
      "cmdb_ci 19       7\n",
      "cmdb_ci 15       5\n",
      "cmdb_ci 16       4\n",
      "Name: cmdb_ci, dtype: int64\n",
      "\n",
      "\n",
      "2 - Medium    8658\n",
      "3 - Low        910\n",
      "1 - High       432\n",
      "Name: impact, dtype: int64\n",
      "\n",
      "\n",
      "2 - Medium    8669\n",
      "3 - Low        894\n",
      "1 - High       437\n",
      "Name: urgency, dtype: int64\n",
      "\n",
      "\n",
      "3 - Moderate    8362\n",
      "4 - Low         1034\n",
      "2 - High         345\n",
      "1 - Critical     259\n",
      "Name: priority, dtype: int64\n",
      "\n",
      "\n",
      "Group 70    2458\n",
      "Group 24     693\n",
      "Group 25     657\n",
      "Group 28     509\n",
      "Group 23     467\n",
      "            ... \n",
      "Group 2        3\n",
      "Group 81       2\n",
      "Group 77       2\n",
      "Group 44       1\n",
      "Group 11       1\n",
      "Name: assignment_group, Length: 64, dtype: int64\n",
      "\n",
      "\n",
      "?               2753\n",
      "Resolver 236     266\n",
      "Resolver 13      253\n",
      "Resolver 57      238\n",
      "Resolver 170     236\n",
      "                ... \n",
      "Resolver 48        1\n",
      "Resolver 196       1\n",
      "Resolver 238       1\n",
      "Resolver 129       1\n",
      "Resolver 199       1\n",
      "Name: assigned_to, Length: 138, dtype: int64\n",
      "\n",
      "\n",
      "True     9926\n",
      "False      74\n",
      "Name: knowledge, dtype: int64\n",
      "\n",
      "\n",
      "False    9281\n",
      "True      719\n",
      "Name: u_priority_confirmation, dtype: int64\n",
      "\n",
      "\n",
      "Do Not Notify    10000\n",
      "Name: notify, dtype: int64\n",
      "\n",
      "\n",
      "?                  9679\n",
      "Problem ID  2       135\n",
      "Problem ID  7        29\n",
      "Problem ID  10       16\n",
      "Problem ID  20       13\n",
      "Problem ID  8        11\n",
      "Problem ID  14       10\n",
      "Problem ID  246      10\n",
      "Problem ID  141       9\n",
      "Problem ID  26        9\n",
      "Problem ID  5         8\n",
      "Problem ID  23        8\n",
      "Problem ID  4         8\n",
      "Problem ID  15        8\n",
      "Problem ID  6         7\n",
      "Problem ID  17        7\n",
      "Problem ID  12        6\n",
      "Problem ID  40        5\n",
      "Problem ID  18        5\n",
      "Problem ID  44        5\n",
      "Problem ID  9         3\n",
      "Problem ID  19        3\n",
      "Problem ID  24        2\n",
      "Problem ID  72        2\n",
      "Problem ID  33        1\n",
      "Problem ID  11        1\n",
      "Name: problem_id, dtype: int64\n",
      "\n",
      "\n",
      "?             9794\n",
      "CHG0000047      18\n",
      "CHG0001656      17\n",
      "CHG0003167      13\n",
      "CHG0000097      11\n",
      "CHG0001863       9\n",
      "CHG0000089       9\n",
      "CHG0003447       9\n",
      "CHG0000293       8\n",
      "CHG0001301       8\n",
      "CHG0000127       8\n",
      "CHG0001271       7\n",
      "CHG0000132       7\n",
      "CHG0000232       7\n",
      "CHG0000707       7\n",
      "CHG0001019       7\n",
      "CHG0000507       7\n",
      "CHG0000428       6\n",
      "CHG0000336       6\n",
      "CHG0000405       6\n",
      "CHG0000084       5\n",
      "CHG0000402       4\n",
      "CHG0000536       4\n",
      "CHG0000433       4\n",
      "CHG0000558       3\n",
      "CHG0000404       3\n",
      "CHG0000914       3\n",
      "CHG0000646       3\n",
      "CHG0000647       3\n",
      "CHG0000704       3\n",
      "CHG0001829       1\n",
      "Name: rfc, dtype: int64\n",
      "\n",
      "\n",
      "?          9993\n",
      "code 8s       7\n",
      "Name: vendor, dtype: int64\n",
      "\n",
      "\n",
      "?             9982\n",
      "CHG0000097      11\n",
      "CHG0000132       7\n",
      "Name: caused_by, dtype: int64\n",
      "\n",
      "\n",
      "code 6     6129\n",
      "code 7     1091\n",
      "code 9      643\n",
      "code 8      529\n",
      "code 1      384\n",
      "code 5      325\n",
      "code 11     276\n",
      "code 10     136\n",
      "code 4      127\n",
      "code 2      109\n",
      "code 3       84\n",
      "?            78\n",
      "code 16      68\n",
      "code 15      13\n",
      "code 17       8\n",
      "Name: closed_code, dtype: int64\n",
      "\n",
      "\n",
      "Resolved by 53     415\n",
      "Resolved by 11     381\n",
      "Resolved by 15     381\n",
      "Resolved by 62     362\n",
      "Resolved by 166    305\n",
      "                  ... \n",
      "Resolved by 229      5\n",
      "Resolved by 42       5\n",
      "Resolved by 46       5\n",
      "Resolved by 54       4\n",
      "Resolved by 48       3\n",
      "Name: resolved_by, Length: 133, dtype: int64\n",
      "\n",
      "\n",
      "?                  75\n",
      "31/3/2016 11:13    41\n",
      "5/5/2016 17:11     36\n",
      "17/3/2016 10:33    33\n",
      "28/6/2016 10:30    31\n",
      "                   ..\n",
      "3/3/2016 16:49      3\n",
      "4/3/2016 23:08      3\n",
      "6/4/2016 14:34      3\n",
      "2/3/2016 00:35      3\n",
      "2/3/2016 17:43      2\n",
      "Name: resolved_at, Length: 1289, dtype: int64\n",
      "\n",
      "\n",
      "24/3/2016 18:40    1526\n",
      "24/3/2016 18:59    1309\n",
      "24/3/2016 18:50     708\n",
      "8/3/2016 10:00      175\n",
      "8/3/2016 17:00      156\n",
      "                   ... \n",
      "11/4/2016 10:59       3\n",
      "9/3/2016 02:00        3\n",
      "4/6/2016 13:07        3\n",
      "5/3/2016 11:00        2\n",
      "5/3/2016 18:00        2\n",
      "Name: closed_at, Length: 278, dtype: int64\n",
      "\n",
      "\n"
     ]
    }
   ],
   "source": [
    "for column in df.columns:\n",
    "    print(df[column].value_counts())\n",
    "    print('\\n')"
   ]
  },
  {
   "cell_type": "code",
   "execution_count": 4,
   "metadata": {},
   "outputs": [
    {
     "data": {
      "text/plain": [
       "number                     1446\n",
       "incident_state                8\n",
       "active                        2\n",
       "reassignment_count           19\n",
       "reopen_count                  5\n",
       "sys_mod_count                95\n",
       "made_sla                      2\n",
       "caller_id                   949\n",
       "opened_by                    73\n",
       "opened_at                  1165\n",
       "sys_created_by               70\n",
       "sys_created_at              837\n",
       "sys_updated_by              191\n",
       "sys_updated_at             5327\n",
       "contact_type                  1\n",
       "location                     98\n",
       "category                     38\n",
       "subcategory                 135\n",
       "u_symptom                   176\n",
       "cmdb_ci                      12\n",
       "impact                        3\n",
       "urgency                       3\n",
       "priority                      4\n",
       "assignment_group             64\n",
       "assigned_to                 138\n",
       "knowledge                     2\n",
       "u_priority_confirmation       2\n",
       "notify                        1\n",
       "problem_id                   26\n",
       "rfc                          31\n",
       "vendor                        2\n",
       "caused_by                     3\n",
       "closed_code                  15\n",
       "resolved_by                 133\n",
       "resolved_at                1289\n",
       "closed_at                   278\n",
       "dtype: int64"
      ]
     },
     "execution_count": 4,
     "metadata": {},
     "output_type": "execute_result"
    }
   ],
   "source": [
    "df.nunique()"
   ]
  },
  {
   "cell_type": "code",
   "execution_count": 5,
   "metadata": {},
   "outputs": [
    {
     "name": "stdout",
     "output_type": "stream",
     "text": [
      "cmdb_ci    9882     98.82 % valeurs manquantes\n",
      "problem_id    9679     96.78999999999999 % valeurs manquantes\n",
      "rfc    9794     97.94 % valeurs manquantes\n",
      "vendor    9993     99.92999999999999 % valeurs manquantes\n",
      "caused_by    9982     99.82 % valeurs manquantes\n"
     ]
    }
   ],
   "source": [
    "#On retire les colonnes qui comportent trop de valeurs manquantes\n",
    "total = len(df)\n",
    "colToDrop = []\n",
    "for elt in df.columns:\n",
    "    count = 0\n",
    "    for i in range(len(df[elt])):\n",
    "        if(df[elt][i] == '?'):\n",
    "            count += 1\n",
    "    if (count/total*100>50):\n",
    "        print(elt, \"  \", count, \"   \", count/total*100, \"% valeurs manquantes\")\n",
    "        colToDrop.append(elt)\n",
    "df.drop(columns=colToDrop, inplace= True)"
   ]
  },
  {
   "cell_type": "code",
   "execution_count": 6,
   "metadata": {
    "scrolled": true
   },
   "outputs": [
    {
     "data": {
      "text/plain": [
       "False    10000\n",
       "dtype: int64"
      ]
     },
     "execution_count": 6,
     "metadata": {},
     "output_type": "execute_result"
    }
   ],
   "source": [
    "df.duplicated().value_counts() #Aucun doublon dans le dataset à retirer"
   ]
  },
  {
   "cell_type": "code",
   "execution_count": 7,
   "metadata": {},
   "outputs": [],
   "source": [
    "listReplacers = ['INC', 'Caller ', 'Opened by ', 'Created by ', 'Updated by ', 'Location ', 'Category ', 'Subcategory ', 'Symptom ', 'Group ', 'Resolver ', 'code ', 'Resolved by ']\n",
    "listColToReplace = ['number','caller_id', 'opened_by','sys_created_by', 'sys_updated_by', 'location','category', 'subcategory', 'u_symptom', 'assignment_group', 'assigned_to', 'closed_code','resolved_by']\n",
    "def StripCol(df, col, strToRemove):\n",
    "    for i in range(len(df[col])):\n",
    "        df[col][i] = df[col][i].strip(strToRemove)\n",
    "    return df"
   ]
  },
  {
   "cell_type": "code",
   "execution_count": 8,
   "metadata": {},
   "outputs": [
    {
     "name": "stderr",
     "output_type": "stream",
     "text": [
      "C:\\Users\\Guillaume\\Anaconda3\\lib\\site-packages\\ipykernel_launcher.py:5: SettingWithCopyWarning: \n",
      "A value is trying to be set on a copy of a slice from a DataFrame\n",
      "\n",
      "See the caveats in the documentation: http://pandas.pydata.org/pandas-docs/stable/user_guide/indexing.html#returning-a-view-versus-a-copy\n",
      "  \"\"\"\n"
     ]
    },
    {
     "name": "stdout",
     "output_type": "stream",
     "text": [
      "number  done\n",
      "caller_id  done\n",
      "opened_by  done\n",
      "sys_created_by  done\n",
      "sys_updated_by  done\n",
      "location  done\n",
      "category  done\n",
      "subcategory  done\n",
      "u_symptom  done\n",
      "assignment_group  done\n",
      "assigned_to  done\n",
      "closed_code  done\n",
      "resolved_by  done\n"
     ]
    }
   ],
   "source": [
    "i=0\n",
    "for col in listColToReplace:\n",
    "    df = StripCol(df, col, listReplacers[i])\n",
    "    print(col, ' done')\n",
    "    i+=1"
   ]
  },
  {
   "cell_type": "code",
   "execution_count": 9,
   "metadata": {},
   "outputs": [
    {
     "name": "stdout",
     "output_type": "stream",
     "text": [
      "opened_by    1377    13.77 % valeurs manquantes\n",
      "sys_created_by    2739    27.389999999999997 % valeurs manquantes\n",
      "sys_created_at    2739    27.389999999999997 % valeurs manquantes\n",
      "location    33    0.33 % valeurs manquantes\n",
      "category    53    0.53 % valeurs manquantes\n",
      "subcategory    53    0.53 % valeurs manquantes\n",
      "u_symptom    3112    31.119999999999997 % valeurs manquantes\n",
      "assignment_group    359    3.5900000000000003 % valeurs manquantes\n",
      "assigned_to    2753    27.529999999999998 % valeurs manquantes\n",
      "closed_code    78    0.7799999999999999 % valeurs manquantes\n",
      "resolved_at    75    0.75 % valeurs manquantes\n"
     ]
    },
    {
     "data": {
      "text/plain": [
       "['opened_by',\n",
       " 'sys_created_by',\n",
       " 'sys_created_at',\n",
       " 'location',\n",
       " 'category',\n",
       " 'subcategory',\n",
       " 'u_symptom',\n",
       " 'assignment_group',\n",
       " 'assigned_to',\n",
       " 'closed_code',\n",
       " 'resolved_at']"
      ]
     },
     "execution_count": 9,
     "metadata": {},
     "output_type": "execute_result"
    }
   ],
   "source": [
    "#Gestion des valeurs '?'\n",
    "total = len(df)\n",
    "listColATraiter = []\n",
    "for elt in df.columns:\n",
    "    count = 0\n",
    "    for i in range(len(df[elt])):\n",
    "        if(df[elt][i] == '?'):\n",
    "            count += 1\n",
    "    if(count != 0):\n",
    "        print(elt, \"  \", count, \"  \", count/total*100, \"% valeurs manquantes\")\n",
    "        listColATraiter.append(elt)\n",
    "listColATraiter"
   ]
  },
  {
   "cell_type": "code",
   "execution_count": 10,
   "metadata": {},
   "outputs": [],
   "source": [
    "listColATraiter.remove('resolved_at')\n",
    "listColATraiter.remove('sys_created_at')#On traite les dates séparément"
   ]
  },
  {
   "cell_type": "code",
   "execution_count": 11,
   "metadata": {},
   "outputs": [],
   "source": [
    "for col in listColATraiter:\n",
    "    df[col].replace('?', '0', inplace = True)"
   ]
  },
  {
   "cell_type": "code",
   "execution_count": 12,
   "metadata": {},
   "outputs": [],
   "source": [
    "df['sys_created_at'].replace('?', np.nan, inplace = True)\n",
    "df['sys_created_at'].ffill(inplace = True)\n",
    "df['resolved_at'].replace('?', np.nan, inplace = True)\n",
    "df['resolved_at'].ffill(inplace = True)"
   ]
  },
  {
   "cell_type": "code",
   "execution_count": 13,
   "metadata": {},
   "outputs": [
    {
     "data": {
      "text/plain": [
       "0       0000045\n",
       "1       0000045\n",
       "2       0000045\n",
       "3       0000045\n",
       "4       0000047\n",
       "         ...   \n",
       "9995    0002319\n",
       "9996    0002320\n",
       "9997    0002320\n",
       "9998    0002320\n",
       "9999    0002320\n",
       "Name: number, Length: 10000, dtype: object"
      ]
     },
     "execution_count": 13,
     "metadata": {},
     "output_type": "execute_result"
    }
   ],
   "source": [
    "df['number']"
   ]
  },
  {
   "cell_type": "code",
   "execution_count": 14,
   "metadata": {},
   "outputs": [],
   "source": [
    "#listDateTimeATraiter = ['sys_created_at', 'resolved_at']\n",
    "#clean = lambda df,col,replacer : df[col][i].replace('?', '0', inplace = True)\n",
    "#def ReplaceQuestionMarkDateTime(df, col): #Convertir les '?' par la valeur précédente dans la colonne\n",
    "#    for i in range(len(df[column])):\n",
    "#        if (df[column][i] == \"?\"):\n",
    "#            df[column, i] = df[column][i-1]\n",
    "#    return df\n",
    "#for elt in listDateTimeATraiter:\n",
    "#    df = ReplaceQuestionMarkDateTime(df, elt)"
   ]
  },
  {
   "cell_type": "code",
   "execution_count": 15,
   "metadata": {},
   "outputs": [],
   "source": [
    "#def ReplaceQuestionMarkNumeric(df, col, replacer): #Convertir les '?'\n",
    "#    for i in range(len(df[column])):\n",
    "#        if (\"?\" == df[column][i]):\n",
    "#            df[column][i] = replacer\n",
    "#    return df"
   ]
  },
  {
   "cell_type": "code",
   "execution_count": 16,
   "metadata": {},
   "outputs": [],
   "source": [
    "#i = 0\n",
    "#for elt in listColATraiter:\n",
    "#    df = ReplaceQuestionMarkNumeric(df, elt, listReplacers[i])\n",
    "#    i+=1"
   ]
  },
  {
   "cell_type": "code",
   "execution_count": 17,
   "metadata": {},
   "outputs": [],
   "source": [
    "#On vérifie qu'il n'y a plus aucun '?'\n",
    "total = len(df)\n",
    "listColATraiter = []\n",
    "for elt in df.columns:\n",
    "    count = 0\n",
    "    for i in range(len(df[elt])):\n",
    "        if(df[elt][i] == '?'):\n",
    "            count += 1\n",
    "    if(count != 0):\n",
    "        print(elt, \"  \", count, \"  \", count/total*100, \"% valeurs manquantes\")\n",
    "        listColATraiter.append(elt)"
   ]
  },
  {
   "cell_type": "code",
   "execution_count": 18,
   "metadata": {},
   "outputs": [],
   "source": [
    "listToNumeric = ['number', 'caller_id', 'opened_by', 'sys_created_by', 'sys_updated_by','location', 'category', 'subcategory', 'u_symptom', 'assignment_group','assigned_to','closed_code','resolved_by']\n",
    "#listCutLength = [3, 7, 10, 11, 11, 9, 9, 12, 8, 6, 9, 5, 12]"
   ]
  },
  {
   "cell_type": "code",
   "execution_count": 19,
   "metadata": {},
   "outputs": [],
   "source": [
    "#def ToNumeric(df, col, cutLength):\n",
    "#    for i in range(len(df[col])):\n",
    "#        df[col][i] = df[col][i][cutLength:]\n",
    "#    df[col] = pd.to_numeric(df[col])    \n",
    "#    print(col, \" converti en numerique\")\n",
    "#    return df"
   ]
  },
  {
   "cell_type": "code",
   "execution_count": 20,
   "metadata": {},
   "outputs": [],
   "source": [
    "for elt in listToNumeric:\n",
    "    df[elt] = pd.to_numeric(df[elt]) "
   ]
  },
  {
   "cell_type": "code",
   "execution_count": 21,
   "metadata": {},
   "outputs": [
    {
     "name": "stdout",
     "output_type": "stream",
     "text": [
      "<class 'pandas.core.frame.DataFrame'>\n",
      "RangeIndex: 10000 entries, 0 to 9999\n",
      "Data columns (total 31 columns):\n",
      "number                     10000 non-null int64\n",
      "incident_state             10000 non-null object\n",
      "active                     10000 non-null bool\n",
      "reassignment_count         10000 non-null int64\n",
      "reopen_count               10000 non-null int64\n",
      "sys_mod_count              10000 non-null int64\n",
      "made_sla                   10000 non-null bool\n",
      "caller_id                  10000 non-null int64\n",
      "opened_by                  10000 non-null int64\n",
      "opened_at                  10000 non-null object\n",
      "sys_created_by             10000 non-null int64\n",
      "sys_created_at             10000 non-null object\n",
      "sys_updated_by             10000 non-null int64\n",
      "sys_updated_at             10000 non-null object\n",
      "contact_type               10000 non-null object\n",
      "location                   10000 non-null int64\n",
      "category                   10000 non-null int64\n",
      "subcategory                10000 non-null int64\n",
      "u_symptom                  10000 non-null int64\n",
      "impact                     10000 non-null object\n",
      "urgency                    10000 non-null object\n",
      "priority                   10000 non-null object\n",
      "assignment_group           10000 non-null int64\n",
      "assigned_to                10000 non-null int64\n",
      "knowledge                  10000 non-null bool\n",
      "u_priority_confirmation    10000 non-null bool\n",
      "notify                     10000 non-null object\n",
      "closed_code                10000 non-null int64\n",
      "resolved_by                10000 non-null int64\n",
      "resolved_at                10000 non-null object\n",
      "closed_at                  10000 non-null object\n",
      "dtypes: bool(4), int64(16), object(11)\n",
      "memory usage: 2.1+ MB\n"
     ]
    }
   ],
   "source": [
    "df.info()"
   ]
  },
  {
   "cell_type": "code",
   "execution_count": 22,
   "metadata": {},
   "outputs": [
    {
     "name": "stderr",
     "output_type": "stream",
     "text": [
      "C:\\Users\\Guillaume\\Anaconda3\\lib\\site-packages\\ipykernel_launcher.py:4: SettingWithCopyWarning: \n",
      "A value is trying to be set on a copy of a slice from a DataFrame\n",
      "\n",
      "See the caveats in the documentation: http://pandas.pydata.org/pandas-docs/stable/user_guide/indexing.html#returning-a-view-versus-a-copy\n",
      "  after removing the cwd from sys.path.\n"
     ]
    },
    {
     "name": "stdout",
     "output_type": "stream",
     "text": [
      "impact  converti en numerique\n",
      "urgency  converti en numerique\n",
      "priority  converti en numerique\n"
     ]
    }
   ],
   "source": [
    "listToNumericLeft = ['impact', 'urgency', 'priority']\n",
    "def ToNumericLeft(df, col, cutLength):\n",
    "    for i in range(len(df[col])):\n",
    "        df[col][i] = df[col][i][:cutLength]   \n",
    "    df[col] = pd.to_numeric(df[col])    \n",
    "    print(col, \" converti en numerique\")\n",
    "    return df\n",
    "for elt in listToNumericLeft:\n",
    "    df = ToNumericLeft(df, elt, 1)"
   ]
  },
  {
   "cell_type": "code",
   "execution_count": 23,
   "metadata": {},
   "outputs": [
    {
     "name": "stdout",
     "output_type": "stream",
     "text": [
      "<class 'pandas.core.frame.DataFrame'>\n",
      "RangeIndex: 10000 entries, 0 to 9999\n",
      "Data columns (total 31 columns):\n",
      "number                     10000 non-null int64\n",
      "incident_state             10000 non-null object\n",
      "active                     10000 non-null bool\n",
      "reassignment_count         10000 non-null int64\n",
      "reopen_count               10000 non-null int64\n",
      "sys_mod_count              10000 non-null int64\n",
      "made_sla                   10000 non-null bool\n",
      "caller_id                  10000 non-null int64\n",
      "opened_by                  10000 non-null int64\n",
      "opened_at                  10000 non-null object\n",
      "sys_created_by             10000 non-null int64\n",
      "sys_created_at             10000 non-null object\n",
      "sys_updated_by             10000 non-null int64\n",
      "sys_updated_at             10000 non-null object\n",
      "contact_type               10000 non-null object\n",
      "location                   10000 non-null int64\n",
      "category                   10000 non-null int64\n",
      "subcategory                10000 non-null int64\n",
      "u_symptom                  10000 non-null int64\n",
      "impact                     10000 non-null int64\n",
      "urgency                    10000 non-null int64\n",
      "priority                   10000 non-null int64\n",
      "assignment_group           10000 non-null int64\n",
      "assigned_to                10000 non-null int64\n",
      "knowledge                  10000 non-null bool\n",
      "u_priority_confirmation    10000 non-null bool\n",
      "notify                     10000 non-null object\n",
      "closed_code                10000 non-null int64\n",
      "resolved_by                10000 non-null int64\n",
      "resolved_at                10000 non-null object\n",
      "closed_at                  10000 non-null object\n",
      "dtypes: bool(4), int64(19), object(8)\n",
      "memory usage: 2.1+ MB\n"
     ]
    }
   ],
   "source": [
    "df.info()"
   ]
  },
  {
   "cell_type": "code",
   "execution_count": 24,
   "metadata": {},
   "outputs": [],
   "source": [
    "#x = range(0,len(df[\"number\"]))\n",
    "#y = df[\"closed_at\"]\n",
    "#x = df[\"resolved_at\"]\n",
    "#plt.scatter(x, y)\n",
    "#plt.xlabel('resolved_at')\n",
    "#plt.ylabel('closed_at')\n",
    "#\n",
    "#plt.show()"
   ]
  },
  {
   "cell_type": "code",
   "execution_count": 25,
   "metadata": {},
   "outputs": [
    {
     "data": {
      "image/png": "[encoded data removed]",
      "text/plain": [
       "<Figure size 1368x1080 with 2 Axes>"
      ]
     },
     "metadata": {
      "needs_background": "light"
     },
     "output_type": "display_data"
    }
   ],
   "source": [
    "f = plt.figure(figsize=(19, 15))\n",
    "plt.matshow(df.corr(), fignum=f.number)\n",
    "plt.xticks(range(df.shape[1]), df.columns, fontsize=14, rotation=45)\n",
    "plt.yticks(range(df.shape[1]), df.columns, fontsize=14)\n",
    "cb = plt.colorbar()\n",
    "cb.ax.tick_params(labelsize=14)\n",
    "plt.title('Correlation Matrix', fontsize=16);"
   ]
  },
  {
   "cell_type": "code",
   "execution_count": 26,
   "metadata": {},
   "outputs": [],
   "source": [
    "#on drop closed_at : variable très similaire à la variable à prédire mais est moins fiable que resolved_at\n",
    "df.drop(\"closed_at\",axis=1,inplace=True)"
   ]
  },
  {
   "cell_type": "code",
   "execution_count": 27,
   "metadata": {},
   "outputs": [],
   "source": [
    "listToDateTime = ['opened_at', 'sys_updated_at', 'resolved_at', 'sys_created_at']\n",
    "def ConvertToDateTime(dataframe, col):\n",
    "    dataframe[col] = pd.to_datetime(dataframe[col], dayfirst = True)\n",
    "    return dataframe\n",
    "#Création de colonnes pour diviser les infos contenues dans les datetimes\n",
    "def TimestampCol(df, col):\n",
    "    newCol = []\n",
    "    for i in range(len(df[col])):\n",
    "        newCol.append(datetime.timestamp(df[col][i]))\n",
    "    return newCol\n",
    "def IsWeekend(df, col):\n",
    "    newCol = []\n",
    "    for i in range(len(df[col])):\n",
    "        if(df[col][i].weekday()==5 or df[col][i].weekday() == 6):\n",
    "            newCol.append(1)\n",
    "        else:\n",
    "            newCol.append(0)\n",
    "    return newCol"
   ]
  },
  {
   "cell_type": "code",
   "execution_count": 28,
   "metadata": {},
   "outputs": [],
   "source": [
    "for col in listToDateTime:\n",
    "    df = ConvertToDateTime(df, col)\n",
    "for col in listToDateTime:\n",
    "    df[col + '_TS'] = TimestampCol(df, col)\n",
    "listToDateTime.remove('resolved_at')\n",
    "df.drop(\"resolved_at\",axis=1,inplace=True)\n",
    "for col in listToDateTime:\n",
    "    df[col + '_weekend'] = IsWeekend(df, col)\n",
    "for col in listToDateTime:\n",
    "    df.drop(col,axis=1,inplace=True)"
   ]
  },
  {
   "cell_type": "code",
   "execution_count": 29,
   "metadata": {
    "scrolled": true
   },
   "outputs": [
    {
     "name": "stdout",
     "output_type": "stream",
     "text": [
      "<class 'pandas.core.frame.DataFrame'>\n",
      "RangeIndex: 10000 entries, 0 to 9999\n",
      "Data columns (total 33 columns):\n",
      "number                     10000 non-null int64\n",
      "incident_state             10000 non-null object\n",
      "active                     10000 non-null bool\n",
      "reassignment_count         10000 non-null int64\n",
      "reopen_count               10000 non-null int64\n",
      "sys_mod_count              10000 non-null int64\n",
      "made_sla                   10000 non-null bool\n",
      "caller_id                  10000 non-null int64\n",
      "opened_by                  10000 non-null int64\n",
      "sys_created_by             10000 non-null int64\n",
      "sys_updated_by             10000 non-null int64\n",
      "contact_type               10000 non-null object\n",
      "location                   10000 non-null int64\n",
      "category                   10000 non-null int64\n",
      "subcategory                10000 non-null int64\n",
      "u_symptom                  10000 non-null int64\n",
      "impact                     10000 non-null int64\n",
      "urgency                    10000 non-null int64\n",
      "priority                   10000 non-null int64\n",
      "assignment_group           10000 non-null int64\n",
      "assigned_to                10000 non-null int64\n",
      "knowledge                  10000 non-null bool\n",
      "u_priority_confirmation    10000 non-null bool\n",
      "notify                     10000 non-null object\n",
      "closed_code                10000 non-null int64\n",
      "resolved_by                10000 non-null int64\n",
      "opened_at_TS               10000 non-null float64\n",
      "sys_updated_at_TS          10000 non-null float64\n",
      "resolved_at_TS             10000 non-null float64\n",
      "sys_created_at_TS          10000 non-null float64\n",
      "opened_at_weekend          10000 non-null int64\n",
      "sys_updated_at_weekend     10000 non-null int64\n",
      "sys_created_at_weekend     10000 non-null int64\n",
      "dtypes: bool(4), float64(4), int64(22), object(3)\n",
      "memory usage: 2.3+ MB\n"
     ]
    }
   ],
   "source": [
    "df.info()"
   ]
  },
  {
   "cell_type": "code",
   "execution_count": 30,
   "metadata": {},
   "outputs": [],
   "source": [
    "replacer = lambda x : x.replace(' ','_')\n",
    "df['incident_state'] = df['incident_state'].apply(replacer)"
   ]
  },
  {
   "cell_type": "code",
   "execution_count": 31,
   "metadata": {},
   "outputs": [],
   "source": [
    "df = pd.get_dummies(df)"
   ]
  },
  {
   "cell_type": "code",
   "execution_count": 32,
   "metadata": {},
   "outputs": [],
   "source": [
    "#Supression des colonnes ne contenant que des valeurs nulles\n",
    "df.drop(\"opened_at_weekend\",axis=1,inplace=True)\n",
    "df.drop(\"sys_created_at_weekend\",axis=1,inplace=True)\n",
    "df.drop('contact_type_Phone',axis=1,inplace=True)\n",
    "df.drop('notify_Do Not Notify',axis=1,inplace=True)"
   ]
  },
  {
   "cell_type": "code",
   "execution_count": 33,
   "metadata": {},
   "outputs": [
    {
     "data": {
      "text/plain": [
       "Index(['number', 'active', 'reassignment_count', 'reopen_count',\n",
       "       'sys_mod_count', 'made_sla', 'caller_id', 'opened_by', 'sys_created_by',\n",
       "       'sys_updated_by', 'location', 'category', 'subcategory', 'u_symptom',\n",
       "       'impact', 'urgency', 'priority', 'assignment_group', 'assigned_to',\n",
       "       'knowledge', 'u_priority_confirmation', 'closed_code', 'resolved_by',\n",
       "       'opened_at_TS', 'sys_updated_at_TS', 'resolved_at_TS',\n",
       "       'sys_created_at_TS', 'sys_updated_at_weekend', 'incident_state_Active',\n",
       "       'incident_state_Awaiting_Evidence', 'incident_state_Awaiting_Problem',\n",
       "       'incident_state_Awaiting_User_Info', 'incident_state_Awaiting_Vendor',\n",
       "       'incident_state_Closed', 'incident_state_New',\n",
       "       'incident_state_Resolved'],\n",
       "      dtype='object')"
      ]
     },
     "execution_count": 33,
     "metadata": {},
     "output_type": "execute_result"
    }
   ],
   "source": [
    "df.columns"
   ]
  },
  {
   "cell_type": "code",
   "execution_count": 34,
   "metadata": {},
   "outputs": [
    {
     "data": {
      "text/plain": [
       "(10000, 36)"
      ]
     },
     "execution_count": 34,
     "metadata": {},
     "output_type": "execute_result"
    }
   ],
   "source": [
    "df.shape"
   ]
  },
  {
   "cell_type": "code",
   "execution_count": 35,
   "metadata": {},
   "outputs": [
    {
     "name": "stdout",
     "output_type": "stream",
     "text": [
      "<class 'pandas.core.frame.DataFrame'>\n",
      "RangeIndex: 10000 entries, 0 to 9999\n",
      "Data columns (total 36 columns):\n",
      "number                               10000 non-null int64\n",
      "active                               10000 non-null bool\n",
      "reassignment_count                   10000 non-null int64\n",
      "reopen_count                         10000 non-null int64\n",
      "sys_mod_count                        10000 non-null int64\n",
      "made_sla                             10000 non-null bool\n",
      "caller_id                            10000 non-null int64\n",
      "opened_by                            10000 non-null int64\n",
      "sys_created_by                       10000 non-null int64\n",
      "sys_updated_by                       10000 non-null int64\n",
      "location                             10000 non-null int64\n",
      "category                             10000 non-null int64\n",
      "subcategory                          10000 non-null int64\n",
      "u_symptom                            10000 non-null int64\n",
      "impact                               10000 non-null int64\n",
      "urgency                              10000 non-null int64\n",
      "priority                             10000 non-null int64\n",
      "assignment_group                     10000 non-null int64\n",
      "assigned_to                          10000 non-null int64\n",
      "knowledge                            10000 non-null bool\n",
      "u_priority_confirmation              10000 non-null bool\n",
      "closed_code                          10000 non-null int64\n",
      "resolved_by                          10000 non-null int64\n",
      "opened_at_TS                         10000 non-null float64\n",
      "sys_updated_at_TS                    10000 non-null float64\n",
      "resolved_at_TS                       10000 non-null float64\n",
      "sys_created_at_TS                    10000 non-null float64\n",
      "sys_updated_at_weekend               10000 non-null int64\n",
      "incident_state_Active                10000 non-null uint8\n",
      "incident_state_Awaiting_Evidence     10000 non-null uint8\n",
      "incident_state_Awaiting_Problem      10000 non-null uint8\n",
      "incident_state_Awaiting_User_Info    10000 non-null uint8\n",
      "incident_state_Awaiting_Vendor       10000 non-null uint8\n",
      "incident_state_Closed                10000 non-null uint8\n",
      "incident_state_New                   10000 non-null uint8\n",
      "incident_state_Resolved              10000 non-null uint8\n",
      "dtypes: bool(4), float64(4), int64(20), uint8(8)\n",
      "memory usage: 1.9 MB\n"
     ]
    }
   ],
   "source": [
    "df.info()"
   ]
  },
  {
   "cell_type": "code",
   "execution_count": 36,
   "metadata": {},
   "outputs": [
    {
     "data": {
      "text/plain": [
       "Index(['number', 'active', 'reassignment_count', 'reopen_count',\n",
       "       'sys_mod_count', 'made_sla', 'caller_id', 'opened_by', 'sys_created_by',\n",
       "       'sys_updated_by', 'location', 'category', 'subcategory', 'u_symptom',\n",
       "       'impact', 'urgency', 'priority', 'assignment_group', 'assigned_to',\n",
       "       'knowledge', 'u_priority_confirmation', 'closed_code', 'resolved_by',\n",
       "       'opened_at_TS', 'sys_updated_at_TS', 'resolved_at_TS',\n",
       "       'sys_created_at_TS', 'sys_updated_at_weekend', 'incident_state_Active',\n",
       "       'incident_state_Awaiting_Evidence', 'incident_state_Awaiting_Problem',\n",
       "       'incident_state_Awaiting_User_Info', 'incident_state_Awaiting_Vendor',\n",
       "       'incident_state_Closed', 'incident_state_New',\n",
       "       'incident_state_Resolved'],\n",
       "      dtype='object')"
      ]
     },
     "execution_count": 36,
     "metadata": {},
     "output_type": "execute_result"
    }
   ],
   "source": [
    "df.columns"
   ]
  },
  {
   "cell_type": "code",
   "execution_count": 37,
   "metadata": {},
   "outputs": [],
   "source": [
    "df.to_csv(\"dataframe.csv\")"
   ]
  },
  {
   "cell_type": "code",
   "execution_count": 38,
   "metadata": {},
   "outputs": [
    {
     "data": {
      "image/png": "[encoded data removed]",
      "text/plain": [
       "<Figure size 1368x1080 with 2 Axes>"
      ]
     },
     "metadata": {
      "needs_background": "light"
     },
     "output_type": "display_data"
    }
   ],
   "source": [
    "f = plt.figure(figsize=(19, 15))\n",
    "plt.matshow(df.corr(), fignum=f.number)\n",
    "plt.xticks(range(df.shape[1]), df.columns, fontsize=14, rotation=45)\n",
    "plt.yticks(range(df.shape[1]), df.columns, fontsize=14)\n",
    "cb = plt.colorbar()\n",
    "cb.ax.tick_params(labelsize=14)\n",
    "plt.title('Matrice de correlation', fontsize=16);"
   ]
  },
  {
   "cell_type": "code",
   "execution_count": 39,
   "metadata": {},
   "outputs": [],
   "source": [
    "from sklearn.model_selection import train_test_split, GridSearchCV, cross_val_score, KFold\n",
    "from sklearn.metrics import mean_squared_error\n",
    "from sklearn.linear_model import LinearRegression\n",
    "from sklearn.tree import DecisionTreeRegressor\n",
    "from sklearn.ensemble import RandomForestRegressor, ExtraTreesRegressor\n",
    "from catboost import CatBoostRegressor\n",
    "from sklearn.calibration import CalibratedClassifierCV\n",
    "from sklearn.preprocessing import StandardScaler\n",
    "import statsmodels.api as sm\n",
    "import seaborn as sns\n",
    "from sklearn import svm\n",
    "import numpy as np"
   ]
  },
  {
   "cell_type": "code",
   "execution_count": 40,
   "metadata": {},
   "outputs": [],
   "source": [
    "#On prend resolved_at comme target, on utilise le timestamp"
   ]
  },
  {
   "cell_type": "code",
   "execution_count": 41,
   "metadata": {},
   "outputs": [],
   "source": [
    "train_set, test_set = train_test_split(df, test_size=0.2, random_state=0)\n",
    "\n",
    "X_train = train_set.drop(columns = [\"resolved_at_TS\"])\n",
    "Y_train = train_set[\"resolved_at_TS\"]\n",
    "\n",
    "X_test = test_set.drop(columns = [\"resolved_at_TS\"])\n",
    "Y_test = test_set[\"resolved_at_TS\"]"
   ]
  },
  {
   "cell_type": "code",
   "execution_count": 42,
   "metadata": {},
   "outputs": [
    {
     "data": {
      "text/plain": [
       "StandardScaler(copy=True, with_mean=True, with_std=True)"
      ]
     },
     "execution_count": 42,
     "metadata": {},
     "output_type": "execute_result"
    }
   ],
   "source": [
    "#Si on veut des valeurs à la même échelle, pour une meilleure interprétabilité des coefficients\n",
    "scaler = StandardScaler()\n",
    "scaler.fit(X_train)"
   ]
  },
  {
   "cell_type": "code",
   "execution_count": 43,
   "metadata": {},
   "outputs": [],
   "source": [
    "X_train = scaler.transform(X_train)\n",
    "X_test = scaler.transform(X_test)"
   ]
  },
  {
   "cell_type": "code",
   "execution_count": 44,
   "metadata": {},
   "outputs": [
    {
     "data": {
      "text/plain": [
       "LinearRegression(copy_X=True, fit_intercept=True, n_jobs=None, normalize=False)"
      ]
     },
     "execution_count": 44,
     "metadata": {},
     "output_type": "execute_result"
    }
   ],
   "source": [
    "LR = LinearRegression()\n",
    "LR.fit(X_train, Y_train)"
   ]
  },
  {
   "cell_type": "code",
   "execution_count": 45,
   "metadata": {},
   "outputs": [
    {
     "data": {
      "text/plain": [
       "array([ 9.42192481e+05, -2.74366197e+18, -1.48622435e+05,  8.51862084e+03,\n",
       "        9.36900639e+04,  2.00053421e+05, -1.86535909e+04,  9.71748421e+04,\n",
       "       -2.69602263e+03,  1.54705926e+05,  1.46557407e+05,  1.83405616e+05,\n",
       "        1.01166918e+05, -5.25670758e+04,  1.28398600e+05,  2.45631450e+05,\n",
       "       -1.51070913e+05, -2.00448379e+04,  2.71813564e+05,  1.41059384e+04,\n",
       "        5.39295735e+03, -1.47364261e+05, -3.06053885e+05, -2.47883734e+05,\n",
       "        2.16853917e+06, -5.18838550e+05,  7.51365662e+03,  7.37304210e+17,\n",
       "        3.28582638e+16,  1.81914694e+17,  6.18807240e+17,  7.81498165e+16,\n",
       "       -2.14568006e+18,  7.61062795e+17,  6.08268621e+17])"
      ]
     },
     "execution_count": 45,
     "metadata": {},
     "output_type": "execute_result"
    }
   ],
   "source": [
    "LR.coef_"
   ]
  },
  {
   "cell_type": "code",
   "execution_count": 46,
   "metadata": {},
   "outputs": [
    {
     "data": {
      "text/plain": [
       "0.5777613627954873"
      ]
     },
     "execution_count": 46,
     "metadata": {},
     "output_type": "execute_result"
    }
   ],
   "source": [
    "LR.score(X_test, Y_test)"
   ]
  },
  {
   "cell_type": "code",
   "execution_count": 47,
   "metadata": {},
   "outputs": [
    {
     "data": {
      "text/plain": [
       "0.5661174452407789"
      ]
     },
     "execution_count": 47,
     "metadata": {},
     "output_type": "execute_result"
    }
   ],
   "source": [
    "LR.score(X_train, Y_train)"
   ]
  },
  {
   "cell_type": "code",
   "execution_count": 48,
   "metadata": {},
   "outputs": [
    {
     "data": {
      "text/plain": [
       "<matplotlib.collections.PathCollection at 0x204dcb16f98>"
      ]
     },
     "execution_count": 48,
     "metadata": {},
     "output_type": "execute_result"
    },
    {
     "data": {
      "image/png": "[encoded data removed]",
      "text/plain": [
       "<Figure size 432x288 with 1 Axes>"
      ]
     },
     "metadata": {
      "needs_background": "light"
     },
     "output_type": "display_data"
    }
   ],
   "source": [
    "plt.scatter(x = Y_test, y=LR.predict(X_test))"
   ]
  },
  {
   "cell_type": "code",
   "execution_count": 49,
   "metadata": {},
   "outputs": [
    {
     "data": {
      "text/plain": [
       "4378632445765.591"
      ]
     },
     "execution_count": 49,
     "metadata": {},
     "output_type": "execute_result"
    }
   ],
   "source": [
    "predictions = LR.predict(X_test)\n",
    "mse = mean_squared_error(Y_test, predictions)\n",
    "mse"
   ]
  },
  {
   "cell_type": "code",
   "execution_count": 50,
   "metadata": {},
   "outputs": [],
   "source": [
    "def get_score(algorithme, X_train, X_test, y_train, y_test, display_graph = False, display_options = True):\n",
    "    if display_options:\n",
    "        print(\"fitting :\\n\"+ str(algorithme))\n",
    "        print(\"X_train:{} , X_test:{} ,  y_train:{} ,  y_test:{}\".format(X_train.shape, X_test.shape, y_train.shape, y_test.shape))\n",
    "    modele = algorithme.fit(X_train, y_train)\n",
    "    score  = modele.score(X_test, y_test)\n",
    "    if display_graph:\n",
    "        plt.scatter(x=y_test, y=algorithme.predict(X_test)) ## Predictions against real values\n",
    "    return score"
   ]
  },
  {
   "cell_type": "code",
   "execution_count": 51,
   "metadata": {},
   "outputs": [],
   "source": [
    "def get_mse(algorithme, X_train, X_test, y_train, y_test):\n",
    "    modele = algorithme.fit(X_train, y_train)\n",
    "    predictions = modele.predict(X_test)\n",
    "    mse = mean_squared_error(Y_test, predictions)\n",
    "    return mse"
   ]
  },
  {
   "cell_type": "code",
   "execution_count": 52,
   "metadata": {},
   "outputs": [],
   "source": [
    "def get_features(algorithme, X_train, X_test, y_train, y_test):\n",
    "    modele = algorithme.fit(X_train, y_train)\n",
    "    importances = modele.feature_importances_\n",
    "    return importances"
   ]
  },
  {
   "cell_type": "code",
   "execution_count": 53,
   "metadata": {},
   "outputs": [
    {
     "name": "stdout",
     "output_type": "stream",
     "text": [
      "fitting :\n",
      "LinearRegression(copy_X=True, fit_intercept=True, n_jobs=None, normalize=False)\n",
      "X_train:(8000, 35) , X_test:(2000, 35) ,  y_train:(8000,) ,  y_test:(2000,)\n"
     ]
    },
    {
     "data": {
      "text/plain": [
       "0.5777613627954873"
      ]
     },
     "execution_count": 53,
     "metadata": {},
     "output_type": "execute_result"
    },
    {
     "data": {
      "image/png": "[encoded data removed]",
      "text/plain": [
       "<Figure size 432x288 with 1 Axes>"
      ]
     },
     "metadata": {
      "needs_background": "light"
     },
     "output_type": "display_data"
    }
   ],
   "source": [
    "get_score(LinearRegression(), X_train, X_test, Y_train, Y_test, True)"
   ]
  },
  {
   "cell_type": "code",
   "execution_count": 54,
   "metadata": {},
   "outputs": [
    {
     "name": "stdout",
     "output_type": "stream",
     "text": [
      "fitting :\n",
      "DecisionTreeRegressor(criterion='mse', max_depth=None, max_features=None,\n",
      "                      max_leaf_nodes=None, min_impurity_decrease=0.0,\n",
      "                      min_impurity_split=None, min_samples_leaf=1,\n",
      "                      min_samples_split=2, min_weight_fraction_leaf=0.0,\n",
      "                      presort=False, random_state=None, splitter='best')\n",
      "X_train:(8000, 35) , X_test:(2000, 35) ,  y_train:(8000,) ,  y_test:(2000,)\n"
     ]
    },
    {
     "data": {
      "text/plain": [
       "0.7445645822372483"
      ]
     },
     "execution_count": 54,
     "metadata": {},
     "output_type": "execute_result"
    },
    {
     "data": {
      "image/png": "[encoded data removed]",
      "text/plain": [
       "<Figure size 432x288 with 1 Axes>"
      ]
     },
     "metadata": {
      "needs_background": "light"
     },
     "output_type": "display_data"
    }
   ],
   "source": [
    "get_score(DecisionTreeRegressor(), X_train, X_test, Y_train, Y_test, True)"
   ]
  },
  {
   "cell_type": "code",
   "execution_count": 55,
   "metadata": {},
   "outputs": [
    {
     "data": {
      "text/plain": [
       "array([1.95029650e-02, 4.47302006e-03, 1.66156277e-03, 1.16343311e-03,\n",
       "       9.61878118e-03, 2.58370350e-10, 2.36200654e-02, 1.91864866e-02,\n",
       "       3.59578009e-03, 8.49252965e-03, 3.67771516e-02, 9.46623670e-03,\n",
       "       8.71310963e-02, 1.16974864e-02, 9.98433244e-04, 4.54174054e-04,\n",
       "       2.08746567e-03, 1.23118614e-02, 2.22312106e-02, 3.76201492e-11,\n",
       "       5.58841590e-03, 2.24915303e-02, 1.12848145e-01, 1.80295987e-02,\n",
       "       5.35984830e-01, 1.61947977e-02, 1.28005637e-05, 4.87507573e-03,\n",
       "       0.00000000e+00, 3.04218225e-03, 2.46698123e-03, 0.00000000e+00,\n",
       "       8.89984396e-05, 2.84177646e-03, 1.06512842e-03])"
      ]
     },
     "execution_count": 55,
     "metadata": {},
     "output_type": "execute_result"
    }
   ],
   "source": [
    "get_features(DecisionTreeRegressor(), X_train, X_test, Y_train, Y_test)"
   ]
  },
  {
   "cell_type": "code",
   "execution_count": 56,
   "metadata": {},
   "outputs": [
    {
     "name": "stdout",
     "output_type": "stream",
     "text": [
      "fitting :\n",
      "RandomForestRegressor(bootstrap=True, criterion='mse', max_depth=None,\n",
      "                      max_features='auto', max_leaf_nodes=None,\n",
      "                      min_impurity_decrease=0.0, min_impurity_split=None,\n",
      "                      min_samples_leaf=1, min_samples_split=2,\n",
      "                      min_weight_fraction_leaf=0.0, n_estimators='warn',\n",
      "                      n_jobs=None, oob_score=False, random_state=None,\n",
      "                      verbose=0, warm_start=False)\n",
      "X_train:(8000, 35) , X_test:(2000, 35) ,  y_train:(8000,) ,  y_test:(2000,)\n"
     ]
    },
    {
     "name": "stderr",
     "output_type": "stream",
     "text": [
      "C:\\Users\\Guillaume\\Anaconda3\\lib\\site-packages\\sklearn\\ensemble\\forest.py:245: FutureWarning: The default value of n_estimators will change from 10 in version 0.20 to 100 in 0.22.\n",
      "  \"10 in version 0.20 to 100 in 0.22.\", FutureWarning)\n"
     ]
    },
    {
     "data": {
      "text/plain": [
       "0.8889886660104784"
      ]
     },
     "execution_count": 56,
     "metadata": {},
     "output_type": "execute_result"
    },
    {
     "data": {
      "image/png": "[encoded data removed]",
      "text/plain": [
       "<Figure size 432x288 with 1 Axes>"
      ]
     },
     "metadata": {
      "needs_background": "light"
     },
     "output_type": "display_data"
    }
   ],
   "source": [
    "get_score(RandomForestRegressor(), X_train, X_test, Y_train, Y_test, True)"
   ]
  },
  {
   "cell_type": "code",
   "execution_count": 57,
   "metadata": {},
   "outputs": [
    {
     "name": "stderr",
     "output_type": "stream",
     "text": [
      "C:\\Users\\Guillaume\\Anaconda3\\lib\\site-packages\\sklearn\\ensemble\\forest.py:245: FutureWarning: The default value of n_estimators will change from 10 in version 0.20 to 100 in 0.22.\n",
      "  \"10 in version 0.20 to 100 in 0.22.\", FutureWarning)\n"
     ]
    }
   ],
   "source": [
    "features = get_features(RandomForestRegressor(), X_train, X_test, Y_train, Y_test)"
   ]
  },
  {
   "cell_type": "code",
   "execution_count": 58,
   "metadata": {},
   "outputs": [],
   "source": [
    "dfx = df.copy()\n",
    "dfx.drop(\"resolved_at_TS\",axis=1,inplace=True)"
   ]
  },
  {
   "cell_type": "code",
   "execution_count": 59,
   "metadata": {},
   "outputs": [
    {
     "data": {
      "text/plain": [
       "36"
      ]
     },
     "execution_count": 59,
     "metadata": {},
     "output_type": "execute_result"
    }
   ],
   "source": [
    "len(df.columns)"
   ]
  },
  {
   "cell_type": "code",
   "execution_count": 60,
   "metadata": {},
   "outputs": [],
   "source": [
    "feature_imp = pd.DataFrame({'col':dfx.columns, 'importance':RandomForestRegressor.feature_importances_})\n",
    "#feature_imp = feature_imp.sort_values('importance', ascending = False)"
   ]
  },
  {
   "cell_type": "code",
   "execution_count": 61,
   "metadata": {},
   "outputs": [
    {
     "name": "stdout",
     "output_type": "stream",
     "text": [
      "fitting :\n",
      "ExtraTreesRegressor(bootstrap=False, criterion='mse', max_depth=None,\n",
      "                    max_features='auto', max_leaf_nodes=None,\n",
      "                    min_impurity_decrease=0.0, min_impurity_split=None,\n",
      "                    min_samples_leaf=1, min_samples_split=2,\n",
      "                    min_weight_fraction_leaf=0.0, n_estimators='warn',\n",
      "                    n_jobs=None, oob_score=False, random_state=None, verbose=0,\n",
      "                    warm_start=False)\n",
      "X_train:(8000, 35) , X_test:(2000, 35) ,  y_train:(8000,) ,  y_test:(2000,)\n"
     ]
    },
    {
     "name": "stderr",
     "output_type": "stream",
     "text": [
      "C:\\Users\\Guillaume\\Anaconda3\\lib\\site-packages\\sklearn\\ensemble\\forest.py:245: FutureWarning: The default value of n_estimators will change from 10 in version 0.20 to 100 in 0.22.\n",
      "  \"10 in version 0.20 to 100 in 0.22.\", FutureWarning)\n"
     ]
    },
    {
     "data": {
      "text/plain": [
       "0.8911012291642278"
      ]
     },
     "execution_count": 61,
     "metadata": {},
     "output_type": "execute_result"
    },
    {
     "data": {
      "image/png": "[encoded data removed]",
      "text/plain": [
       "<Figure size 432x288 with 1 Axes>"
      ]
     },
     "metadata": {
      "needs_background": "light"
     },
     "output_type": "display_data"
    }
   ],
   "source": [
    "get_score(ExtraTreesRegressor(), X_train, X_test, Y_train, Y_test, True)"
   ]
  },
  {
   "cell_type": "code",
   "execution_count": 83,
   "metadata": {},
   "outputs": [
    {
     "name": "stderr",
     "output_type": "stream",
     "text": [
      "C:\\Users\\Guillaume\\Anaconda3\\lib\\site-packages\\sklearn\\ensemble\\forest.py:245: FutureWarning: The default value of n_estimators will change from 10 in version 0.20 to 100 in 0.22.\n",
      "  \"10 in version 0.20 to 100 in 0.22.\", FutureWarning)\n",
      "C:\\Users\\Guillaume\\Anaconda3\\lib\\site-packages\\sklearn\\ensemble\\forest.py:245: FutureWarning: The default value of n_estimators will change from 10 in version 0.20 to 100 in 0.22.\n",
      "  \"10 in version 0.20 to 100 in 0.22.\", FutureWarning)\n",
      "C:\\Users\\Guillaume\\Anaconda3\\lib\\site-packages\\sklearn\\ensemble\\forest.py:245: FutureWarning: The default value of n_estimators will change from 10 in version 0.20 to 100 in 0.22.\n",
      "  \"10 in version 0.20 to 100 in 0.22.\", FutureWarning)\n",
      "C:\\Users\\Guillaume\\Anaconda3\\lib\\site-packages\\sklearn\\ensemble\\forest.py:245: FutureWarning: The default value of n_estimators will change from 10 in version 0.20 to 100 in 0.22.\n",
      "  \"10 in version 0.20 to 100 in 0.22.\", FutureWarning)\n"
     ]
    }
   ],
   "source": [
    "performances = []\n",
    "listmse = []\n",
    "algorithmes = [LinearRegression, DecisionTreeRegressor, RandomForestRegressor, ExtraTreesRegressor]\n",
    "for algo in algorithmes:\n",
    "    performances.append(get_score(algo(), X_train, X_test, Y_train, Y_test, display_options = False))\n",
    "    listmse.append(get_mse(algo(), X_train, X_test, Y_train, Y_test))"
   ]
  },
  {
   "cell_type": "code",
   "execution_count": 84,
   "metadata": {},
   "outputs": [
    {
     "data": {
      "text/plain": [
       "[0.5777613627954873, 0.7401275086289334, 0.882139182144601, 0.8799689569230307]"
      ]
     },
     "execution_count": 84,
     "metadata": {},
     "output_type": "execute_result"
    }
   ],
   "source": [
    "performances"
   ]
  },
  {
   "cell_type": "code",
   "execution_count": 85,
   "metadata": {},
   "outputs": [
    {
     "data": {
      "text/plain": [
       "[4378632445765.591, 2795798390340.0, 984723087397.639, 1260720776646.561]"
      ]
     },
     "execution_count": 85,
     "metadata": {},
     "output_type": "execute_result"
    }
   ],
   "source": [
    "listmse"
   ]
  },
  {
   "cell_type": "code",
   "execution_count": 86,
   "metadata": {},
   "outputs": [
    {
     "data": {
      "image/png": "[encoded data removed]",
      "text/plain": [
       "<Figure size 432x288 with 1 Axes>"
      ]
     },
     "metadata": {
      "needs_background": "light"
     },
     "output_type": "display_data"
    }
   ],
   "source": [
    "D = {'LinearRegression':performances[0], u'DecisionTree': performances[1], u'RandomForest':performances[2], u'ExtraTrees':performances[3]}\n",
    "\n",
    "plt.bar(range(len(D)), D.values(), align='center')\n",
    "plt.xticks(range(len(D)), list(D.keys()))\n",
    "plt.ylabel('score')\n",
    "plt.xlabel('Algorithm')\n",
    "plt.show()"
   ]
  },
  {
   "cell_type": "code",
   "execution_count": 87,
   "metadata": {},
   "outputs": [
    {
     "data": {
      "image/png": "[encoded data removed]",
      "text/plain": [
       "<Figure size 432x288 with 1 Axes>"
      ]
     },
     "metadata": {
      "needs_background": "light"
     },
     "output_type": "display_data"
    }
   ],
   "source": [
    "D = {'LinearRegression':listmse[0], u'DecisionTree': listmse[1], u'RandomForest':listmse[2], u'ExtraTrees':listmse[3]}\n",
    "\n",
    "plt.bar(range(len(D)), D.values(), align='center')\n",
    "plt.xticks(range(len(D)), list(D.keys()))\n",
    "plt.ylabel('mse')\n",
    "plt.xlabel('Algorithm')\n",
    "plt.show()"
   ]
  },
  {
   "cell_type": "code",
   "execution_count": 94,
   "metadata": {},
   "outputs": [
    {
     "name": "stdout",
     "output_type": "stream",
     "text": [
      "0.7549521950377368\n",
      "0.8844852973471728\n",
      "0.9012829946289977\n",
      "0.903841466656177\n",
      "0.8956073829499721\n",
      "0.9068771538192975\n",
      "0.9072726948385866\n",
      "0.9110611997368975\n",
      "0.9043039643853321\n",
      "0.908136325383541\n",
      "0.907276798416672\n",
      "0.9123280687295942\n",
      "0.9101727313666538\n",
      "0.9072655827370519\n",
      "0.9085074083335826\n"
     ]
    }
   ],
   "source": [
    "#Le randomforest possède le mse le plus faible\n",
    "score= []\n",
    "for i in range(1,75, 5):\n",
    "    TestRF = RandomForestRegressor(n_estimators=i)\n",
    "    score.append(get_score(TestRF, X_train, X_test, Y_train, Y_test, display_options=False))\n",
    "    print(get_score(TestRF, X_train, X_test, Y_train, Y_test, display_options=False))"
   ]
  },
  {
   "cell_type": "code",
   "execution_count": 95,
   "metadata": {},
   "outputs": [
    {
     "data": {
      "text/plain": [
       "[0.832828004166734,\n",
       " 0.8738518527572968,\n",
       " 0.8964263427813889,\n",
       " 0.8924551467209784,\n",
       " 0.8950456302767485,\n",
       " 0.8999395946756867,\n",
       " 0.8960096246367059,\n",
       " 0.9061658864502486,\n",
       " 0.9058001179275068,\n",
       " 0.9047282432993301,\n",
       " 0.9123709479323778,\n",
       " 0.9042719134910847,\n",
       " 0.9148897847361267,\n",
       " 0.9140228152634411,\n",
       " 0.9091098243081875]"
      ]
     },
     "execution_count": 95,
     "metadata": {},
     "output_type": "execute_result"
    }
   ],
   "source": [
    "score"
   ]
  },
  {
   "cell_type": "code",
   "execution_count": 97,
   "metadata": {},
   "outputs": [
    {
     "data": {
      "image/png": "[encoded data removed]",
      "text/plain": [
       "<Figure size 432x288 with 1 Axes>"
      ]
     },
     "metadata": {
      "needs_background": "light"
     },
     "output_type": "display_data"
    }
   ],
   "source": [
    "plt.plot(range(1,75, 5), score)\n",
    "plt.ylabel('score')\n",
    "plt.xlabel(\"number of estimators\")\n",
    "plt.show()"
   ]
  },
  {
   "cell_type": "code",
   "execution_count": 115,
   "metadata": {},
   "outputs": [
    {
     "name": "stderr",
     "output_type": "stream",
     "text": [
      "C:\\Users\\Guillaume\\Anaconda3\\lib\\site-packages\\sklearn\\ensemble\\forest.py:245: FutureWarning: The default value of n_estimators will change from 10 in version 0.20 to 100 in 0.22.\n",
      "  \"10 in version 0.20 to 100 in 0.22.\", FutureWarning)\n",
      "C:\\Users\\Guillaume\\Anaconda3\\lib\\site-packages\\sklearn\\ensemble\\forest.py:245: FutureWarning: The default value of n_estimators will change from 10 in version 0.20 to 100 in 0.22.\n",
      "  \"10 in version 0.20 to 100 in 0.22.\", FutureWarning)\n"
     ]
    },
    {
     "name": "stdout",
     "output_type": "stream",
     "text": [
      "0.4523085216863028\n",
      "0.7449577292991076\n"
     ]
    },
    {
     "name": "stderr",
     "output_type": "stream",
     "text": [
      "C:\\Users\\Guillaume\\Anaconda3\\lib\\site-packages\\sklearn\\ensemble\\forest.py:245: FutureWarning: The default value of n_estimators will change from 10 in version 0.20 to 100 in 0.22.\n",
      "  \"10 in version 0.20 to 100 in 0.22.\", FutureWarning)\n"
     ]
    },
    {
     "name": "stdout",
     "output_type": "stream",
     "text": [
      "0.8372554857527679\n"
     ]
    },
    {
     "name": "stderr",
     "output_type": "stream",
     "text": [
      "C:\\Users\\Guillaume\\Anaconda3\\lib\\site-packages\\sklearn\\ensemble\\forest.py:245: FutureWarning: The default value of n_estimators will change from 10 in version 0.20 to 100 in 0.22.\n",
      "  \"10 in version 0.20 to 100 in 0.22.\", FutureWarning)\n"
     ]
    },
    {
     "name": "stdout",
     "output_type": "stream",
     "text": [
      "0.882388504793646\n"
     ]
    },
    {
     "name": "stderr",
     "output_type": "stream",
     "text": [
      "C:\\Users\\Guillaume\\Anaconda3\\lib\\site-packages\\sklearn\\ensemble\\forest.py:245: FutureWarning: The default value of n_estimators will change from 10 in version 0.20 to 100 in 0.22.\n",
      "  \"10 in version 0.20 to 100 in 0.22.\", FutureWarning)\n"
     ]
    },
    {
     "name": "stdout",
     "output_type": "stream",
     "text": [
      "0.8982012241829629\n"
     ]
    },
    {
     "name": "stderr",
     "output_type": "stream",
     "text": [
      "C:\\Users\\Guillaume\\Anaconda3\\lib\\site-packages\\sklearn\\ensemble\\forest.py:245: FutureWarning: The default value of n_estimators will change from 10 in version 0.20 to 100 in 0.22.\n",
      "  \"10 in version 0.20 to 100 in 0.22.\", FutureWarning)\n"
     ]
    },
    {
     "name": "stdout",
     "output_type": "stream",
     "text": [
      "0.8905785374710966\n"
     ]
    },
    {
     "name": "stderr",
     "output_type": "stream",
     "text": [
      "C:\\Users\\Guillaume\\Anaconda3\\lib\\site-packages\\sklearn\\ensemble\\forest.py:245: FutureWarning: The default value of n_estimators will change from 10 in version 0.20 to 100 in 0.22.\n",
      "  \"10 in version 0.20 to 100 in 0.22.\", FutureWarning)\n"
     ]
    },
    {
     "name": "stdout",
     "output_type": "stream",
     "text": [
      "0.8647306244268407\n"
     ]
    },
    {
     "name": "stderr",
     "output_type": "stream",
     "text": [
      "C:\\Users\\Guillaume\\Anaconda3\\lib\\site-packages\\sklearn\\ensemble\\forest.py:245: FutureWarning: The default value of n_estimators will change from 10 in version 0.20 to 100 in 0.22.\n",
      "  \"10 in version 0.20 to 100 in 0.22.\", FutureWarning)\n"
     ]
    },
    {
     "name": "stdout",
     "output_type": "stream",
     "text": [
      "0.8988334857492142\n"
     ]
    },
    {
     "name": "stderr",
     "output_type": "stream",
     "text": [
      "C:\\Users\\Guillaume\\Anaconda3\\lib\\site-packages\\sklearn\\ensemble\\forest.py:245: FutureWarning: The default value of n_estimators will change from 10 in version 0.20 to 100 in 0.22.\n",
      "  \"10 in version 0.20 to 100 in 0.22.\", FutureWarning)\n"
     ]
    },
    {
     "name": "stdout",
     "output_type": "stream",
     "text": [
      "0.8944348888001369\n"
     ]
    },
    {
     "name": "stderr",
     "output_type": "stream",
     "text": [
      "C:\\Users\\Guillaume\\Anaconda3\\lib\\site-packages\\sklearn\\ensemble\\forest.py:245: FutureWarning: The default value of n_estimators will change from 10 in version 0.20 to 100 in 0.22.\n",
      "  \"10 in version 0.20 to 100 in 0.22.\", FutureWarning)\n"
     ]
    },
    {
     "name": "stdout",
     "output_type": "stream",
     "text": [
      "0.8863418188861169\n"
     ]
    },
    {
     "name": "stderr",
     "output_type": "stream",
     "text": [
      "C:\\Users\\Guillaume\\Anaconda3\\lib\\site-packages\\sklearn\\ensemble\\forest.py:245: FutureWarning: The default value of n_estimators will change from 10 in version 0.20 to 100 in 0.22.\n",
      "  \"10 in version 0.20 to 100 in 0.22.\", FutureWarning)\n"
     ]
    },
    {
     "name": "stdout",
     "output_type": "stream",
     "text": [
      "0.8770410736309937\n"
     ]
    },
    {
     "name": "stderr",
     "output_type": "stream",
     "text": [
      "C:\\Users\\Guillaume\\Anaconda3\\lib\\site-packages\\sklearn\\ensemble\\forest.py:245: FutureWarning: The default value of n_estimators will change from 10 in version 0.20 to 100 in 0.22.\n",
      "  \"10 in version 0.20 to 100 in 0.22.\", FutureWarning)\n"
     ]
    },
    {
     "name": "stdout",
     "output_type": "stream",
     "text": [
      "0.899093386775405\n"
     ]
    },
    {
     "name": "stderr",
     "output_type": "stream",
     "text": [
      "C:\\Users\\Guillaume\\Anaconda3\\lib\\site-packages\\sklearn\\ensemble\\forest.py:245: FutureWarning: The default value of n_estimators will change from 10 in version 0.20 to 100 in 0.22.\n",
      "  \"10 in version 0.20 to 100 in 0.22.\", FutureWarning)\n"
     ]
    },
    {
     "name": "stdout",
     "output_type": "stream",
     "text": [
      "0.8750224352333157\n"
     ]
    },
    {
     "name": "stderr",
     "output_type": "stream",
     "text": [
      "C:\\Users\\Guillaume\\Anaconda3\\lib\\site-packages\\sklearn\\ensemble\\forest.py:245: FutureWarning: The default value of n_estimators will change from 10 in version 0.20 to 100 in 0.22.\n",
      "  \"10 in version 0.20 to 100 in 0.22.\", FutureWarning)\n"
     ]
    },
    {
     "name": "stdout",
     "output_type": "stream",
     "text": [
      "0.8839937173713222\n"
     ]
    },
    {
     "name": "stderr",
     "output_type": "stream",
     "text": [
      "C:\\Users\\Guillaume\\Anaconda3\\lib\\site-packages\\sklearn\\ensemble\\forest.py:245: FutureWarning: The default value of n_estimators will change from 10 in version 0.20 to 100 in 0.22.\n",
      "  \"10 in version 0.20 to 100 in 0.22.\", FutureWarning)\n"
     ]
    },
    {
     "name": "stdout",
     "output_type": "stream",
     "text": [
      "0.8986002869897561\n"
     ]
    }
   ],
   "source": [
    "#Le randomforest possède le mse le plus faible\n",
    "score= []\n",
    "for i in range(1,75, 5):\n",
    "    TestRF = RandomForestRegressor(max_depth=i)\n",
    "    score.append(get_score(TestRF, X_train, X_test, Y_train, Y_test, display_options=False))\n",
    "    print(get_score(TestRF, X_train, X_test, Y_train, Y_test, display_options=False))"
   ]
  },
  {
   "cell_type": "code",
   "execution_count": 117,
   "metadata": {},
   "outputs": [
    {
     "data": {
      "image/png": "[encoded data removed]",
      "text/plain": [
       "<Figure size 432x288 with 1 Axes>"
      ]
     },
     "metadata": {
      "needs_background": "light"
     },
     "output_type": "display_data"
    }
   ],
   "source": [
    "plt.plot(range(1,75, 5), score)\n",
    "plt.ylabel('score')\n",
    "plt.xlabel(\"max_depth\")\n",
    "plt.show()"
   ]
  },
  {
   "cell_type": "code",
   "execution_count": 98,
   "metadata": {},
   "outputs": [],
   "source": [
    "gridParam = {\n",
    "    'max_depth': range(1,100,10),\n",
    "    'n_estimators'     : range(1,20, 2)\n",
    "}"
   ]
  },
  {
   "cell_type": "code",
   "execution_count": 103,
   "metadata": {},
   "outputs": [],
   "source": [
    "grid = GridSearchCV(estimator=RandomForestRegressor(), \n",
    "                                param_grid=gridParam, \n",
    "                                n_jobs=-1, cv=3, verbose=2)"
   ]
  },
  {
   "cell_type": "code",
   "execution_count": 104,
   "metadata": {},
   "outputs": [
    {
     "name": "stdout",
     "output_type": "stream",
     "text": [
      "Fitting 3 folds for each of 100 candidates, totalling 300 fits\n"
     ]
    },
    {
     "name": "stderr",
     "output_type": "stream",
     "text": [
      "[Parallel(n_jobs=-1)]: Using backend LokyBackend with 4 concurrent workers.\n",
      "[Parallel(n_jobs=-1)]: Done  33 tasks      | elapsed:    2.9s\n",
      "[Parallel(n_jobs=-1)]: Done 183 tasks      | elapsed:   26.8s\n",
      "[Parallel(n_jobs=-1)]: Done 300 out of 300 | elapsed:   47.9s finished\n"
     ]
    }
   ],
   "source": [
    "grid_result = grid.fit(X_train, Y_train)"
   ]
  },
  {
   "cell_type": "code",
   "execution_count": 105,
   "metadata": {},
   "outputs": [],
   "source": [
    "best_params = grid_result.best_params_"
   ]
  },
  {
   "cell_type": "code",
   "execution_count": 106,
   "metadata": {},
   "outputs": [
    {
     "data": {
      "text/plain": [
       "{'max_depth': 41, 'n_estimators': 17}"
      ]
     },
     "execution_count": 106,
     "metadata": {},
     "output_type": "execute_result"
    }
   ],
   "source": [
    "best_params"
   ]
  },
  {
   "cell_type": "code",
   "execution_count": 107,
   "metadata": {},
   "outputs": [],
   "source": [
    "def rfr_model(X, y):\n",
    "    #Grid-Search\n",
    "    gsc = GridSearchCV(\n",
    "        estimator=RandomForestRegressor(),\n",
    "        param_grid={\n",
    "            'max_depth': range(30,100,5),\n",
    "            'n_estimators': (1,30, 3),\n",
    "        },\n",
    "        cv=3, verbose=0, n_jobs=-1)\n",
    "    \n",
    "    grid_result = gsc.fit(X, y)\n",
    "    best_params = grid_result.best_params_\n",
    "    print(best_params)\n",
    "    rfr = RandomForestRegressor(max_depth=best_params[\"max_depth\"], n_estimators=best_params[\"n_estimators\"],random_state=False, verbose=False)\n",
    "    #K-Fold CV\n",
    "    scores = cross_val_score(rfr, X, y, cv=10)\n",
    "\n",
    "    return scores"
   ]
  },
  {
   "cell_type": "code",
   "execution_count": 108,
   "metadata": {},
   "outputs": [
    {
     "name": "stdout",
     "output_type": "stream",
     "text": [
      "{'max_depth': 85, 'n_estimators': 30}\n"
     ]
    }
   ],
   "source": [
    "rfr_scores = rfr_model(X_train, Y_train)"
   ]
  },
  {
   "cell_type": "code",
   "execution_count": 109,
   "metadata": {
    "scrolled": true
   },
   "outputs": [
    {
     "data": {
      "text/plain": [
       "array([0.88941808, 0.93303982, 0.89859482, 0.90401062, 0.92243879,\n",
       "       0.88081319, 0.84227234, 0.88849085, 0.70798188, 0.92015933])"
      ]
     },
     "metadata": {},
     "output_type": "display_data"
    },
    {
     "data": {
      "text/plain": [
       "0.8787219717805655"
      ]
     },
     "metadata": {},
     "output_type": "display_data"
    },
    {
     "data": {
      "text/plain": [
       "0.06189350206130528"
      ]
     },
     "metadata": {},
     "output_type": "display_data"
    }
   ],
   "source": [
    "display(rfr_scores, rfr_scores.mean(), rfr_scores.std())"
   ]
  },
  {
   "cell_type": "code",
   "execution_count": 111,
   "metadata": {},
   "outputs": [],
   "source": [
    "def rfr_model(X, y):\n",
    "    #Grid-Search\n",
    "    gsc = GridSearchCV(\n",
    "        estimator=RandomForestRegressor(),\n",
    "        param_grid={\n",
    "            'max_depth': range(30,100,5),\n",
    "            'n_estimators': (1,30, 3),\n",
    "        },\n",
    "        cv=5, verbose=0, n_jobs=-1)\n",
    "    \n",
    "    grid_result = gsc.fit(X, y)\n",
    "    best_params = grid_result.best_params_\n",
    "    print(best_params)\n",
    "    \n",
    "    rfr = RandomForestRegressor(max_depth=best_params[\"max_depth\"], n_estimators=best_params[\"n_estimators\"],random_state=False, verbose=False)\n",
    "    return rfr"
   ]
  },
  {
   "cell_type": "code",
   "execution_count": 112,
   "metadata": {},
   "outputs": [
    {
     "name": "stdout",
     "output_type": "stream",
     "text": [
      "{'max_depth': 80, 'n_estimators': 30}\n"
     ]
    }
   ],
   "source": [
    "model = rfr_model(X_train,Y_train)"
   ]
  },
  {
   "cell_type": "code",
   "execution_count": 113,
   "metadata": {},
   "outputs": [
    {
     "data": {
      "text/plain": [
       "['model_randomForest.pkl']"
      ]
     },
     "execution_count": 113,
     "metadata": {},
     "output_type": "execute_result"
    }
   ],
   "source": [
    "from sklearn.externals import joblib\n",
    "path =  'model_randomForest.pkl'\n",
    "joblib.dump(model, path)"
   ]
  },
  {
   "cell_type": "code",
   "execution_count": 114,
   "metadata": {},
   "outputs": [
    {
     "data": {
      "text/plain": [
       "{'number': 45,\n",
       " 'active': True,\n",
       " 'reassignment_count': 0,\n",
       " 'reopen_count': 0,\n",
       " 'sys_mod_count': 0,\n",
       " 'made_sla': True,\n",
       " 'caller_id': 2403,\n",
       " 'opened_by': 8,\n",
       " 'sys_created_by': 6,\n",
       " 'sys_updated_by': 21,\n",
       " 'location': 143,\n",
       " 'category': 55,\n",
       " 'subcategory': 170,\n",
       " 'u_symptom': 72,\n",
       " 'impact': 2,\n",
       " 'urgency': 2,\n",
       " 'priority': 3,\n",
       " 'assignment_group': 56,\n",
       " 'assigned_to': 0,\n",
       " 'knowledge': True,\n",
       " 'u_priority_confirmation': False,\n",
       " 'closed_code': 5,\n",
       " 'resolved_by': 149,\n",
       " 'opened_at_TS': 1456704960.0,\n",
       " 'sys_updated_at_TS': 1456705380.0,\n",
       " 'resolved_at_TS': 1456741740.0,\n",
       " 'sys_created_at_TS': 1456705380.0,\n",
       " 'sys_updated_at_weekend': 0,\n",
       " 'incident_state_Active': 0,\n",
       " 'incident_state_Awaiting_Evidence': 0,\n",
       " 'incident_state_Awaiting_Problem': 0,\n",
       " 'incident_state_Awaiting_User_Info': 0,\n",
       " 'incident_state_Awaiting_Vendor': 0,\n",
       " 'incident_state_Closed': 0,\n",
       " 'incident_state_New': 1,\n",
       " 'incident_state_Resolved': 0}"
      ]
     },
     "execution_count": 114,
     "metadata": {},
     "output_type": "execute_result"
    }
   ],
   "source": [
    "dict(df.iloc[0])"
   ]
  },
  {
   "cell_type": "code",
   "execution_count": null,
   "metadata": {},
   "outputs": [],
   "source": []
  }
 ],
 "metadata": {
  "kernelspec": {
   "display_name": "Python 3",
   "language": "python",
   "name": "python3"
  },
  "language_info": {
   "codemirror_mode": {
    "name": "ipython",
    "version": 3
   },
   "file_extension": ".py",
   "mimetype": "text/x-python",
   "name": "python",
   "nbconvert_exporter": "python",
   "pygments_lexer": "ipython3",
   "version": "3.7.3"
  }
 },
 "nbformat": 4,
 "nbformat_minor": 2
}
